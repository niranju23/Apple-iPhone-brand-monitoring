{
 "cells": [
  {
   "cell_type": "code",
   "execution_count": 3,
   "metadata": {},
   "outputs": [
    {
     "name": "stdout",
     "output_type": "stream",
     "text": [
      "                                                 review sentiment\n",
      "0                                         GoodREAD MORE  Positive\n",
      "1     Nice camera but battery drain fast specially o...  Positive\n",
      "2     Best smart phone under this price range compar...  Positive\n",
      "3                                Just amazing!READ MORE  Positive\n",
      "4                             Nice UI and FastREAD MORE  Positive\n",
      "...                                                 ...       ...\n",
      "1122           Good product thank you FlipkartREAD MORE  Positive\n",
      "1123  Great product much faster than iPhone 13READ MORE  Positive\n",
      "1124                                   Great 👍READ MORE  Positive\n",
      "1125  Very good product and delivered in one day...R...  Positive\n",
      "1126                                   AwesomeREAD MORE  Positive\n",
      "\n",
      "[1127 rows x 2 columns]\n"
     ]
    }
   ],
   "source": [
    "import pandas as pd\n",
    "from textblob import TextBlob\n",
    "\n",
    "# Load the CSV file into a pandas DataFrame\n",
    "csv_file_path = r'Data_collection/sample_data/output.csv'\n",
    "data = pd.read_csv(csv_file_path)\n",
    "\n",
    "# Assuming your CSV file has a column named 'review' that contains the reviews\n",
    "reviews = data['review']\n",
    "\n",
    "# Perform sentiment analysis using TextBlob\n",
    "def get_sentiment(text):\n",
    "    analysis = TextBlob(text)\n",
    "    # Sentiment polarity ranges from -1 (negative) to 1 (positive)\n",
    "    sentiment_score = analysis.sentiment.polarity\n",
    "    if sentiment_score > 0:\n",
    "        return 'Positive'\n",
    "    elif sentiment_score < 0:\n",
    "        return 'Negative'\n",
    "    else:\n",
    "        return 'Neutral'\n",
    "\n",
    "# Add a new column 'sentiment' to the DataFrame with sentiment analysis results\n",
    "data['sentiment'] = reviews.apply(get_sentiment)\n",
    "\n",
    "# Print the DataFrame with sentiment analysis results\n",
    "print(data[['review', 'sentiment']])\n"
   ]
  },
  {
   "cell_type": "code",
   "execution_count": null,
   "metadata": {},
   "outputs": [],
   "source": []
  }
 ],
 "metadata": {
  "kernelspec": {
   "display_name": ".venv",
   "language": "python",
   "name": "python3"
  },
  "language_info": {
   "codemirror_mode": {
    "name": "ipython",
    "version": 3
   },
   "file_extension": ".py",
   "mimetype": "text/x-python",
   "name": "python",
   "nbconvert_exporter": "python",
   "pygments_lexer": "ipython3",
   "version": "3.11.0"
  },
  "orig_nbformat": 4
 },
 "nbformat": 4,
 "nbformat_minor": 2
}
