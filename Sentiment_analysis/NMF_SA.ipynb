{
 "cells": [
  {
   "cell_type": "code",
   "execution_count": 2,
   "metadata": {},
   "outputs": [
    {
     "name": "stdout",
     "output_type": "stream",
     "text": [
      "Topic 1: good, camera, quality, perform, overall, everyth, battery, use, mobil, price\n",
      "Topic 2: nice, phone, mobil, look, colour, fast, perform, display, wow, rate\n",
      "Topic 3: awesome, phone, love, look, alway, mobil, word, deliver, absolute, support\n",
      "Topic 4: product, amaze, great, excel, flippant, super, deliver, genuine, thank, origin\n",
      "Topic 5: phone, best, excel, camera, siphon, great, 14, quality, battery, perform\n"
     ]
    }
   ],
   "source": [
    "import pandas as pd\n",
    "from sklearn.feature_extraction.text import TfidfVectorizer\n",
    "from sklearn.decomposition import NMF\n",
    "\n",
    "# Load the CSV file\n",
    "data = pd.read_csv('preprocessing/preprocessed_sample.csv')\n",
    "data['corrected_review'] = data['corrected_review'].fillna('')\n",
    "# Preprocess the text data (remove punctuation, lowercase, etc.)\n",
    "# You can use libraries like NLTK or spaCy for this.\n",
    "\n",
    "# Create a TF-IDF vectorizer\n",
    "vectorizer = TfidfVectorizer(max_df=0.95, min_df=2, stop_words='english')\n",
    "\n",
    "# Fit and transform the data\n",
    "tfidf_matrix = vectorizer.fit_transform(data['corrected_review'])\n",
    "\n",
    "# Apply NMF\n",
    "num_topics = 5  # Define the number of topics you want to extract\n",
    "nmf_model = NMF(n_components=num_topics, random_state=42)\n",
    "\n",
    "# Fit the NMF model to the TF-IDF matrix\n",
    "nmf_matrix = nmf_model.fit_transform(tfidf_matrix)\n",
    "\n",
    "# Get the list of feature names (words)\n",
    "feature_names = vectorizer.get_feature_names_out()\n",
    "\n",
    "# Print the top words for each topic\n",
    "for topic_idx, topic in enumerate(nmf_model.components_):\n",
    "    top_words = [feature_names[i] for i in topic.argsort()[:-10 - 1:-1]]\n",
    "    print(f\"Topic {topic_idx + 1}: {', '.join(top_words)}\")\n"
   ]
  },
  {
   "cell_type": "markdown",
   "metadata": {},
   "source": []
  },
  {
   "cell_type": "code",
   "execution_count": null,
   "metadata": {},
   "outputs": [],
   "source": []
  }
 ],
 "metadata": {
  "kernelspec": {
   "display_name": ".venv",
   "language": "python",
   "name": "python3"
  },
  "language_info": {
   "codemirror_mode": {
    "name": "ipython",
    "version": 3
   },
   "file_extension": ".py",
   "mimetype": "text/x-python",
   "name": "python",
   "nbconvert_exporter": "python",
   "pygments_lexer": "ipython3",
   "version": "3.11.0"
  },
  "orig_nbformat": 4
 },
 "nbformat": 4,
 "nbformat_minor": 2
}
