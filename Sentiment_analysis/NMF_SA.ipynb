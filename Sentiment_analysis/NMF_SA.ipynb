{
 "cells": [
  {
   "cell_type": "code",
   "execution_count": 2,
   "metadata": {},
   "outputs": [
    {
     "ename": "TypeError",
     "evalue": "string indices must be integers, not 'str'",
     "output_type": "error",
     "traceback": [
      "\u001b[0;31m---------------------------------------------------------------------------\u001b[0m",
      "\u001b[0;31mTypeError\u001b[0m                                 Traceback (most recent call last)",
      "\u001b[1;32m/Users/tamilselvan/Documents/play with python/Apple-iPhone-brand-monitoring/Sentiment_analysis/NMF_SA.ipynb Cell 1\u001b[0m line \u001b[0;36m7\n\u001b[1;32m      <a href='vscode-notebook-cell:/Users/tamilselvan/Documents/play%20with%20python/Apple-iPhone-brand-monitoring/Sentiment_analysis/NMF_SA.ipynb#W0sZmlsZQ%3D%3D?line=4'>5</a>\u001b[0m \u001b[39m# Load the CSV file\u001b[39;00m\n\u001b[1;32m      <a href='vscode-notebook-cell:/Users/tamilselvan/Documents/play%20with%20python/Apple-iPhone-brand-monitoring/Sentiment_analysis/NMF_SA.ipynb#W0sZmlsZQ%3D%3D?line=5'>6</a>\u001b[0m data_path \u001b[39m=\u001b[39m \u001b[39mr\u001b[39m\u001b[39m'\u001b[39m\u001b[39mData_collection/main_data/Modified_Apple_iPhones_with_all_columns_end.xlsx\u001b[39m\u001b[39m'\u001b[39m\n\u001b[0;32m----> <a href='vscode-notebook-cell:/Users/tamilselvan/Documents/play%20with%20python/Apple-iPhone-brand-monitoring/Sentiment_analysis/NMF_SA.ipynb#W0sZmlsZQ%3D%3D?line=6'>7</a>\u001b[0m data_path[\u001b[39m'\u001b[39m\u001b[39mcorrected_review\u001b[39m\u001b[39m'\u001b[39m] \u001b[39m=\u001b[39m data_path[\u001b[39m'\u001b[39;49m\u001b[39mcorrected_review\u001b[39;49m\u001b[39m'\u001b[39;49m]\u001b[39m.\u001b[39mfillna(\u001b[39m'\u001b[39m\u001b[39m'\u001b[39m)\n\u001b[1;32m      <a href='vscode-notebook-cell:/Users/tamilselvan/Documents/play%20with%20python/Apple-iPhone-brand-monitoring/Sentiment_analysis/NMF_SA.ipynb#W0sZmlsZQ%3D%3D?line=7'>8</a>\u001b[0m \u001b[39m# Preprocess the text data (remove punctuation, lowercase, etc.)\u001b[39;00m\n\u001b[1;32m      <a href='vscode-notebook-cell:/Users/tamilselvan/Documents/play%20with%20python/Apple-iPhone-brand-monitoring/Sentiment_analysis/NMF_SA.ipynb#W0sZmlsZQ%3D%3D?line=8'>9</a>\u001b[0m \u001b[39m# You can use libraries like NLTK or spaCy for this.\u001b[39;00m\n\u001b[1;32m     <a href='vscode-notebook-cell:/Users/tamilselvan/Documents/play%20with%20python/Apple-iPhone-brand-monitoring/Sentiment_analysis/NMF_SA.ipynb#W0sZmlsZQ%3D%3D?line=9'>10</a>\u001b[0m \n\u001b[1;32m     <a href='vscode-notebook-cell:/Users/tamilselvan/Documents/play%20with%20python/Apple-iPhone-brand-monitoring/Sentiment_analysis/NMF_SA.ipynb#W0sZmlsZQ%3D%3D?line=10'>11</a>\u001b[0m \u001b[39m# Create a TF-IDF vectorizer\u001b[39;00m\n\u001b[1;32m     <a href='vscode-notebook-cell:/Users/tamilselvan/Documents/play%20with%20python/Apple-iPhone-brand-monitoring/Sentiment_analysis/NMF_SA.ipynb#W0sZmlsZQ%3D%3D?line=11'>12</a>\u001b[0m vectorizer \u001b[39m=\u001b[39m TfidfVectorizer(max_df\u001b[39m=\u001b[39m\u001b[39m0.95\u001b[39m, min_df\u001b[39m=\u001b[39m\u001b[39m2\u001b[39m, stop_words\u001b[39m=\u001b[39m\u001b[39m'\u001b[39m\u001b[39menglish\u001b[39m\u001b[39m'\u001b[39m)\n",
      "\u001b[0;31mTypeError\u001b[0m: string indices must be integers, not 'str'"
     ]
    }
   ],
   "source": [
    "import pandas as pd\n",
    "from sklearn.feature_extraction.text import TfidfVectorizer\n",
    "from sklearn.decomposition import NMF\n",
    "\n",
    "# Load the CSV file\n",
    "data_path = r'Data_collection/main_data/Modified_Apple_iPhones_with_all_columns_end.xlsx'\n",
    "data_path['corrected_review'] = data_path['corrected_review'].fillna('')\n",
    "# Preprocess the text data (remove punctuation, lowercase, etc.)\n",
    "# You can use libraries like NLTK or spaCy for this.\n",
    "\n",
    "# Create a TF-IDF vectorizer\n",
    "vectorizer = TfidfVectorizer(max_df=0.95, min_df=2, stop_words='english')\n",
    "\n",
    "# Fit and transform the data\n",
    "tfidf_matrix = vectorizer.fit_transform(data['corrected_review'])\n",
    "\n",
    "# Apply NMF\n",
    "num_topics = 5  # Define the number of topics you want to extract\n",
    "nmf_model = NMF(n_components=num_topics, random_state=42)\n",
    "\n",
    "# Fit the NMF model to the TF-IDF matrix\n",
    "nmf_matrix = nmf_model.fit_transform(tfidf_matrix)\n",
    "\n",
    "# Get the list of feature names (words)\n",
    "feature_names = vectorizer.get_feature_names_out()\n",
    "\n",
    "# Print the top words for each topic\n",
    "for topic_idx, topic in enumerate(nmf_model.components_):\n",
    "    top_words = [feature_names[i] for i in topic.argsort()[:-10 - 1:-1]]\n",
    "    print(f\"Topic {topic_idx + 1}: {', '.join(top_words)}\")\n"
   ]
  },
  {
   "cell_type": "markdown",
   "metadata": {},
   "source": []
  },
  {
   "cell_type": "code",
   "execution_count": null,
   "metadata": {},
   "outputs": [],
   "source": []
  }
 ],
 "metadata": {
  "kernelspec": {
   "display_name": ".venv",
   "language": "python",
   "name": "python3"
  },
  "language_info": {
   "codemirror_mode": {
    "name": "ipython",
    "version": 3
   },
   "file_extension": ".py",
   "mimetype": "text/x-python",
   "name": "python",
   "nbconvert_exporter": "python",
   "pygments_lexer": "ipython3",
   "version": "3.11.0"
  },
  "orig_nbformat": 4
 },
 "nbformat": 4,
 "nbformat_minor": 2
}
