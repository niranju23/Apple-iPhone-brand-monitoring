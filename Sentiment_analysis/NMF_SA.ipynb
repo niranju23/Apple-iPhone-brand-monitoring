{
 "cells": [
  {
   "cell_type": "code",
   "execution_count": 2,
   "metadata": {},
   "outputs": [
    {
     "name": "stdout",
     "output_type": "stream",
     "text": [
      "Topic 1: iphone, 14, 13, plus, models, buy, review, 15, mini, upgrade\n",
      "Topic 2: phone, good, best, nice, battery, product, awesome, like, great, camera\n",
      "Topic 3: pro, max, 14, battery, 13, pixel, display, camera, models, life\n",
      "Topic 4: game, playing, whats, 417, 418, 420, 430, video, called, know\n",
      "Topic 5: apple, new, watch, camera, like, year, island, dynamic, display, features\n"
     ]
    }
   ],
   "source": [
    "import pandas as pd\n",
    "from sklearn.feature_extraction.text import TfidfVectorizer\n",
    "from sklearn.decomposition import NMF\n",
    "\n",
    "# Load the CSV file\n",
    "data_path = 'Data_collection/main_data/processed_data.csv'\n",
    "\n",
    "data = pd.read_csv(data_path)\n",
    "data = data[data['Year'] == '2022']\n",
    "data['processed_review'] = data['processed_review'].fillna('')\n",
    "# Preprocess the text data (remove punctuation, lowercase, etc.)\n",
    "# You can use libraries like NLTK or spaCy for this.\n",
    "\n",
    "# Create a TF-IDF vectorizer\n",
    "vectorizer = TfidfVectorizer(max_df=0.95, min_df=2, stop_words='english')\n",
    "\n",
    "# Fit and transform the data\n",
    "tfidf_matrix = vectorizer.fit_transform(data['processed_review'])\n",
    "\n",
    "# Apply NMF\n",
    "num_topics = 5  # Define the number of topics you want to extract\n",
    "nmf_model = NMF(n_components=num_topics, random_state=42)\n",
    "\n",
    "# Fit the NMF model to the TF-IDF matrix\n",
    "nmf_matrix = nmf_model.fit_transform(tfidf_matrix)\n",
    "\n",
    "# Get the list of feature names (words)\n",
    "feature_names = vectorizer.get_feature_names_out()\n",
    "\n",
    "# Print the top words for each topic\n",
    "for topic_idx, topic in enumerate(nmf_model.components_):\n",
    "    top_words = [feature_names[i] for i in topic.argsort()[:-10 - 1:-1]]\n",
    "    print(f\"Topic {topic_idx + 1}: {', '.join(top_words)}\")\n"
   ]
  },
  {
   "cell_type": "markdown",
   "metadata": {},
   "source": []
  },
  {
   "cell_type": "code",
   "execution_count": null,
   "metadata": {},
   "outputs": [],
   "source": []
  }
 ],
 "metadata": {
  "kernelspec": {
   "display_name": ".venv",
   "language": "python",
   "name": "python3"
  },
  "language_info": {
   "codemirror_mode": {
    "name": "ipython",
    "version": 3
   },
   "file_extension": ".py",
   "mimetype": "text/x-python",
   "name": "python",
   "nbconvert_exporter": "python",
   "pygments_lexer": "ipython3",
   "version": "3.11.0"
  },
  "orig_nbformat": 4
 },
 "nbformat": 4,
 "nbformat_minor": 2
}
