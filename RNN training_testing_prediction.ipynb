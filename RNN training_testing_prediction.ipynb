{
  "nbformat": 4,
  "nbformat_minor": 0,
  "metadata": {
    "colab": {
      "provenance": [],
      "authorship_tag": "ABX9TyPFT7SrINKnHqwm8l7ER2Mr",
      "include_colab_link": true
    },
    "kernelspec": {
      "name": "python3",
      "display_name": "Python 3"
    },
    "language_info": {
      "name": "python"
    }
  },
  "cells": [
    {
      "cell_type": "markdown",
      "metadata": {
        "id": "view-in-github",
        "colab_type": "text"
      },
      "source": [
        "<a href=\"https://colab.research.google.com/github/niranju23/Apple-iPhone-brand-monitoring/blob/main/RNN%20training_testing_prediction.ipynb\" target=\"_parent\"><img src=\"https://colab.research.google.com/assets/colab-badge.svg\" alt=\"Open In Colab\"/></a>"
      ]
    },
    {
      "cell_type": "code",
      "execution_count": 2,
      "metadata": {
        "id": "gbxqFBM7MmJU"
      },
      "outputs": [],
      "source": [
        "import pandas as pd\n",
        "import numpy as np\n",
        "from keras.preprocessing.text import Tokenizer\n",
        "from tensorflow.keras.preprocessing.sequence import pad_sequences\n",
        "from keras.models import Sequential\n",
        "from keras.layers import Embedding, LSTM, Dense"
      ]
    },
    {
      "cell_type": "code",
      "source": [
        "# Load your dataset\n",
        "data = pd.read_excel(\"/content/sample_data/final_nlp_preprocess_with_ratings.xlsx\")  # Replace with your data file"
      ],
      "metadata": {
        "id": "3tYSlKP-MmyZ"
      },
      "execution_count": 4,
      "outputs": []
    },
    {
      "cell_type": "code",
      "source": [
        "# Tokenize text data\n",
        "tokenizer = Tokenizer()\n",
        "tokenizer.fit_on_texts(data['Lemmatized Review'])\n",
        "\n",
        "# Get the number of unique words\n",
        "num_unique_words = len(tokenizer.word_index)\n",
        "\n",
        "print(f\"Number of unique words: {num_unique_words}\")"
      ],
      "metadata": {
        "colab": {
          "base_uri": "https://localhost:8080/"
        },
        "id": "pPEF814fNA-o",
        "outputId": "b6bb85e7-f6c6-4ba8-ebde-9c45a9d49aaf"
      },
      "execution_count": 5,
      "outputs": [
        {
          "output_type": "stream",
          "name": "stdout",
          "text": [
            "Number of unique words: 8912\n"
          ]
        }
      ]
    },
    {
      "cell_type": "code",
      "source": [
        "# Tokenize text data to get sequences\n",
        "tokenizer = Tokenizer(num_words=8000, oov_token='<OOV>')\n",
        "tokenizer.fit_on_texts(data['Lemmatized Review'])\n",
        "sequences = tokenizer.texts_to_sequences(data['Lemmatized Review'])\n",
        "\n",
        "# Calculate the maximum sequence length\n",
        "max_sequence_length = max(len(seq) for seq in sequences)\n",
        "\n",
        "print(f\"Maximum sequence length: {max_sequence_length}\")"
      ],
      "metadata": {
        "colab": {
          "base_uri": "https://localhost:8080/"
        },
        "id": "fnY-5MYON54H",
        "outputId": "00073b84-88f2-4130-f4ac-e53a7f78f2f1"
      },
      "execution_count": 6,
      "outputs": [
        {
          "output_type": "stream",
          "name": "stdout",
          "text": [
            "Maximum sequence length: 1536\n"
          ]
        }
      ]
    },
    {
      "cell_type": "code",
      "source": [
        "# Define constants\n",
        "num_words = 8912  # Number of unique words in your vocabulary\n",
        "max_sequence_length = 1536  # Maximum length of input sequences"
      ],
      "metadata": {
        "id": "5SchqXhCN-Nu"
      },
      "execution_count": 9,
      "outputs": []
    },
    {
      "cell_type": "code",
      "source": [
        "# Tokenize text and create sequences\n",
        "tokenizer = Tokenizer(num_words=num_words, oov_token='<OOV>')\n",
        "tokenizer.fit_on_texts(data['Lemmatized Review'])\n",
        "sequences = tokenizer.texts_to_sequences(data['Lemmatized Review'])\n",
        "padded_sequences = pad_sequences(sequences, maxlen=max_sequence_length, padding='post', truncating='post')\n"
      ],
      "metadata": {
        "id": "rD-C9EycOKbe"
      },
      "execution_count": 10,
      "outputs": []
    },
    {
      "cell_type": "code",
      "source": [
        "# Convert ratings to sentiment labels (1 for positive, 0 for negative)\n",
        "data['sentiment'] = np.where(data['rating'] >= 4, 1, 0)"
      ],
      "metadata": {
        "id": "RH_NKggrOKde"
      },
      "execution_count": 11,
      "outputs": []
    },
    {
      "cell_type": "code",
      "source": [
        "# Create the RNN model\n",
        "model = Sequential()\n",
        "model.add(Embedding(input_dim=num_words, output_dim=32, input_length=max_sequence_length))\n",
        "model.add(LSTM(units=64))\n",
        "model.add(Dense(units=1, activation='sigmoid'))  # Binary classification"
      ],
      "metadata": {
        "id": "-wDMwqSbOKfQ"
      },
      "execution_count": 12,
      "outputs": []
    },
    {
      "cell_type": "code",
      "source": [
        "# Compile the model\n",
        "model.compile(optimizer='adam', loss='binary_crossentropy', metrics=['accuracy'])\n"
      ],
      "metadata": {
        "id": "paDA8-jGOKhO"
      },
      "execution_count": 13,
      "outputs": []
    },
    {
      "cell_type": "code",
      "source": [
        "# Split data into training and testing sets\n",
        "train_size = int(0.8 * len(data))\n",
        "X_train = padded_sequences[:train_size]\n",
        "y_train = data['sentiment'][:train_size]\n",
        "X_test = padded_sequences[train_size:]\n",
        "y_test = data['sentiment'][train_size:]"
      ],
      "metadata": {
        "id": "e7C7q5TmOKjG"
      },
      "execution_count": 14,
      "outputs": []
    },
    {
      "cell_type": "code",
      "source": [
        "# Train the model\n",
        "model.fit(X_train, y_train, epochs=5, batch_size=32, validation_data=(X_test, y_test))\n"
      ],
      "metadata": {
        "colab": {
          "base_uri": "https://localhost:8080/"
        },
        "id": "VZjhEEVuOgXo",
        "outputId": "a91a7f9d-a501-4ec8-9a8c-89ee64eae893"
      },
      "execution_count": 15,
      "outputs": [
        {
          "output_type": "stream",
          "name": "stdout",
          "text": [
            "Epoch 1/5\n",
            "270/270 [==============================] - 281s 1s/step - loss: 0.6929 - accuracy: 0.5115 - val_loss: 0.6983 - val_accuracy: 0.4528\n",
            "Epoch 2/5\n",
            "270/270 [==============================] - 274s 1s/step - loss: 0.6929 - accuracy: 0.5159 - val_loss: 0.6959 - val_accuracy: 0.4528\n",
            "Epoch 3/5\n",
            "270/270 [==============================] - 273s 1s/step - loss: 0.6928 - accuracy: 0.5159 - val_loss: 0.6970 - val_accuracy: 0.4528\n",
            "Epoch 4/5\n",
            "270/270 [==============================] - 273s 1s/step - loss: 0.6926 - accuracy: 0.5159 - val_loss: 0.6937 - val_accuracy: 0.4528\n",
            "Epoch 5/5\n",
            "270/270 [==============================] - 272s 1s/step - loss: 0.6927 - accuracy: 0.5142 - val_loss: 0.7008 - val_accuracy: 0.4528\n"
          ]
        },
        {
          "output_type": "execute_result",
          "data": {
            "text/plain": [
              "<keras.callbacks.History at 0x7b4a8201fd00>"
            ]
          },
          "metadata": {},
          "execution_count": 15
        }
      ]
    },
    {
      "cell_type": "code",
      "source": [
        "model.save(\"rnn.h5\")"
      ],
      "metadata": {
        "id": "XW4DEz1QVeEJ"
      },
      "execution_count": 32,
      "outputs": []
    },
    {
      "cell_type": "code",
      "source": [
        "# Example prediction\n",
        "sample_review = [\"This product is not good! I hate it.\"]\n",
        "sample_sequence = tokenizer.texts_to_sequences(sample_review)\n",
        "sample_padded_sequence = pad_sequences(sample_sequence, maxlen=max_sequence_length, padding='post', truncating='post')\n",
        "prediction = model.predict(sample_padded_sequence)\n",
        "\n",
        "# Print the prediction\n",
        "sentiment = \"Positive\" if prediction >= 0.5 else \"Negative\"\n",
        "print(f\"Sample Review: {sample_review[0]} | Predicted Sentiment: {sentiment}\")"
      ],
      "metadata": {
        "colab": {
          "base_uri": "https://localhost:8080/"
        },
        "id": "Ap8WwWa1YTcV",
        "outputId": "603b4205-78c6-4d6b-d9c5-e43bef785bbc"
      },
      "execution_count": 53,
      "outputs": [
        {
          "output_type": "stream",
          "name": "stdout",
          "text": [
            "1/1 [==============================] - 0s 434ms/step\n",
            "Sample Review: This product is not good! I hate it. | Predicted Sentiment: Positive\n"
          ]
        }
      ]
    },
    {
      "cell_type": "code",
      "source": [],
      "metadata": {
        "id": "wtQtur3iYTes"
      },
      "execution_count": null,
      "outputs": []
    }
  ]
}