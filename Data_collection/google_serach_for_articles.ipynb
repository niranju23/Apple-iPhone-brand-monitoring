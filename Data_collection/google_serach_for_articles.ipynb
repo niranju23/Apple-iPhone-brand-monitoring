{
 "cells": [
  {
   "cell_type": "code",
   "execution_count": 1,
   "metadata": {},
   "outputs": [
    {
     "ename": "HTTPError",
     "evalue": "429 Client Error: Too Many Requests for url: https://www.google.com/sorry/index?continue=https://www.google.com/search%3Fq%3DApple%252BiPhone%252B14%252Bblog%252Barticles%26num%3D3%26hl%3Den%26start%3D9&hl=en&q=EgQCYg_xGJygr6cGIjAqRyPHeSk59u1hldV3IYPqzV19uqvsuWZ28vmH8qoA3AfvP3_7jdOF8tKoZ_59mYwyAXJaAUM",
     "output_type": "error",
     "traceback": [
      "\u001b[0;31m---------------------------------------------------------------------------\u001b[0m",
      "\u001b[0;31mHTTPError\u001b[0m                                 Traceback (most recent call last)",
      "Cell \u001b[0;32mIn[1], line 16\u001b[0m\n\u001b[1;32m     13\u001b[0m article_data_list \u001b[39m=\u001b[39m []\n\u001b[1;32m     15\u001b[0m \u001b[39m# Extract content from the top 10 search results\u001b[39;00m\n\u001b[0;32m---> 16\u001b[0m \u001b[39mfor\u001b[39;00m result \u001b[39min\u001b[39;00m search_results:\n\u001b[1;32m     17\u001b[0m     response \u001b[39m=\u001b[39m requests\u001b[39m.\u001b[39mget(result)\n\u001b[1;32m     18\u001b[0m     html_content \u001b[39m=\u001b[39m response\u001b[39m.\u001b[39mcontent\n",
      "File \u001b[0;32m~/Documents/play with python/Apple-iPhone-brand-monitoring/.venv/lib/python3.11/site-packages/googlesearch/__init__.py:54\u001b[0m, in \u001b[0;36msearch\u001b[0;34m(term, num_results, lang, proxy, advanced, sleep_interval, timeout)\u001b[0m\n\u001b[1;32m     51\u001b[0m start \u001b[39m=\u001b[39m \u001b[39m0\u001b[39m\n\u001b[1;32m     52\u001b[0m \u001b[39mwhile\u001b[39;00m start \u001b[39m<\u001b[39m num_results:\n\u001b[1;32m     53\u001b[0m     \u001b[39m# Send request\u001b[39;00m\n\u001b[0;32m---> 54\u001b[0m     resp \u001b[39m=\u001b[39m _req(escaped_term, num_results \u001b[39m-\u001b[39;49m start,\n\u001b[1;32m     55\u001b[0m                 lang, start, proxies, timeout)\n\u001b[1;32m     57\u001b[0m     \u001b[39m# Parse\u001b[39;00m\n\u001b[1;32m     58\u001b[0m     soup \u001b[39m=\u001b[39m BeautifulSoup(resp\u001b[39m.\u001b[39mtext, \u001b[39m\"\u001b[39m\u001b[39mhtml.parser\u001b[39m\u001b[39m\"\u001b[39m)\n",
      "File \u001b[0;32m~/Documents/play with python/Apple-iPhone-brand-monitoring/.venv/lib/python3.11/site-packages/googlesearch/__init__.py:23\u001b[0m, in \u001b[0;36m_req\u001b[0;34m(term, results, lang, start, proxies, timeout)\u001b[0m\n\u001b[1;32m      8\u001b[0m \u001b[39mdef\u001b[39;00m \u001b[39m_req\u001b[39m(term, results, lang, start, proxies, timeout):\n\u001b[1;32m      9\u001b[0m     resp \u001b[39m=\u001b[39m get(\n\u001b[1;32m     10\u001b[0m         url\u001b[39m=\u001b[39m\u001b[39m\"\u001b[39m\u001b[39mhttps://www.google.com/search\u001b[39m\u001b[39m\"\u001b[39m,\n\u001b[1;32m     11\u001b[0m         headers\u001b[39m=\u001b[39m{\n\u001b[0;32m   (...)\u001b[0m\n\u001b[1;32m     21\u001b[0m         timeout\u001b[39m=\u001b[39mtimeout,\n\u001b[1;32m     22\u001b[0m     )\n\u001b[0;32m---> 23\u001b[0m     resp\u001b[39m.\u001b[39;49mraise_for_status()\n\u001b[1;32m     24\u001b[0m     \u001b[39mreturn\u001b[39;00m resp\n",
      "File \u001b[0;32m~/Documents/play with python/Apple-iPhone-brand-monitoring/.venv/lib/python3.11/site-packages/requests/models.py:1021\u001b[0m, in \u001b[0;36mResponse.raise_for_status\u001b[0;34m(self)\u001b[0m\n\u001b[1;32m   1016\u001b[0m     http_error_msg \u001b[39m=\u001b[39m (\n\u001b[1;32m   1017\u001b[0m         \u001b[39mf\u001b[39m\u001b[39m\"\u001b[39m\u001b[39m{\u001b[39;00m\u001b[39mself\u001b[39m\u001b[39m.\u001b[39mstatus_code\u001b[39m}\u001b[39;00m\u001b[39m Server Error: \u001b[39m\u001b[39m{\u001b[39;00mreason\u001b[39m}\u001b[39;00m\u001b[39m for url: \u001b[39m\u001b[39m{\u001b[39;00m\u001b[39mself\u001b[39m\u001b[39m.\u001b[39murl\u001b[39m}\u001b[39;00m\u001b[39m\"\u001b[39m\n\u001b[1;32m   1018\u001b[0m     )\n\u001b[1;32m   1020\u001b[0m \u001b[39mif\u001b[39;00m http_error_msg:\n\u001b[0;32m-> 1021\u001b[0m     \u001b[39mraise\u001b[39;00m HTTPError(http_error_msg, response\u001b[39m=\u001b[39m\u001b[39mself\u001b[39m)\n",
      "\u001b[0;31mHTTPError\u001b[0m: 429 Client Error: Too Many Requests for url: https://www.google.com/sorry/index?continue=https://www.google.com/search%3Fq%3DApple%252BiPhone%252B14%252Bblog%252Barticles%26num%3D3%26hl%3Den%26start%3D9&hl=en&q=EgQCYg_xGJygr6cGIjAqRyPHeSk59u1hldV3IYPqzV19uqvsuWZ28vmH8qoA3AfvP3_7jdOF8tKoZ_59mYwyAXJaAUM"
     ]
    }
   ],
   "source": [
    "import pandas as pd\n",
    "import requests\n",
    "from googlesearch import search\n",
    "from bs4 import BeautifulSoup\n",
    "\n",
    "# Perform a Google search for blog articles about Apple iPhone 14\n",
    "search_query = \"Apple iPhone 14 blog articles\"\n",
    "num_results = 10  # Number of search results to fetch\n",
    "\n",
    "search_results = search(search_query, num_results=num_results, lang=\"en\")\n",
    "\n",
    "# Create a list to store dictionaries of article data\n",
    "article_data_list = []\n",
    "\n",
    "# Extract content from the top 10 search results\n",
    "for result in search_results:\n",
    "    response = requests.get(result)\n",
    "    html_content = response.content\n",
    "\n",
    "    soup = BeautifulSoup(html_content, \"html.parser\")\n",
    "\n",
    "    # Extract the title\n",
    "    title = soup.title.string.strip() if soup.title else \"N/A\"\n",
    "\n",
    "    # Extract the text from the parsed HTML (modify as needed)\n",
    "    paragraphs = soup.find_all(\"p\")\n",
    "    article_text = \"\\n\".join(paragraph.get_text() for paragraph in paragraphs)\n",
    "\n",
    "    # Append the results to the list\n",
    "    article_data_list.append({\"Title\": title, \"URL\": result, \"Content\": article_text})\n",
    "\n",
    "# Create a DataFrame from the list of dictionaries\n",
    "article_data = pd.DataFrame(article_data_list)\n"
   ]
  },
  {
   "cell_type": "code",
   "execution_count": 3,
   "metadata": {},
   "outputs": [],
   "source": [
    "article_data = pd.DataFrame(article_data_list)\n"
   ]
  },
  {
   "cell_type": "code",
   "execution_count": 8,
   "metadata": {},
   "outputs": [
    {
     "data": {
      "text/plain": [
       "\"By  Verge Staff\\nIt’s time for Apple’s annual September event, and this should be a big one: we’re expecting iPhones, Apple Watches, AirPods, and plenty of models between them. The event, which Apple’s calling “Far Out,” kicks off today, September 7th, at 1PM ET / 10AM PT. It’s streaming live for anyone who wants to tune in remotely, but Apple is also holding an in-person component from its campus in Cupertino —\\xa0and we’ll be there, reporting live.\\nThe event is expected to be headlined by an expansive lineup of new iPhones. The iPhone 14 is likely to get a larger-sized sibling, while the iPhone 14 Pro could see more substantial upgrades, including a long-awaited always-on display. On the Apple Watch side of things, rumors suggest there’ll be an updated Apple Watch SE, a next-generation Apple Watch Series 8, and the introduction of a new high-end model meant for more extreme use cases and serious workouts. Also, the AirPods Pro should get their first update in three years.\\nThat’s a lot for Apple to pack in —\\xa0and, of course, there are always some unexpected surprises in between. Follow along here for updates, commentary, and photos from the event.\\n / Sign up for Verge Deals to get deals on products we've tested sent to your inbox daily.\\nThe Verge is a vox media network\\n© 2023 Vox Media, LLC. All Rights Reserved\""
      ]
     },
     "execution_count": 8,
     "metadata": {},
     "output_type": "execute_result"
    }
   ],
   "source": [
    "article_data.Content[0]"
   ]
  },
  {
   "cell_type": "code",
   "execution_count": null,
   "metadata": {},
   "outputs": [],
   "source": []
  }
 ],
 "metadata": {
  "kernelspec": {
   "display_name": ".venv",
   "language": "python",
   "name": "python3"
  },
  "language_info": {
   "codemirror_mode": {
    "name": "ipython",
    "version": 3
   },
   "file_extension": ".py",
   "mimetype": "text/x-python",
   "name": "python",
   "nbconvert_exporter": "python",
   "pygments_lexer": "ipython3",
   "version": "3.11.0"
  },
  "orig_nbformat": 4
 },
 "nbformat": 4,
 "nbformat_minor": 2
}
