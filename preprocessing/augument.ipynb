{
 "cells": [
  {
   "cell_type": "code",
   "execution_count": 4,
   "metadata": {},
   "outputs": [
    {
     "name": "stderr",
     "output_type": "stream",
     "text": [
      "[nltk_data] Downloading package wordnet to\n",
      "[nltk_data]     /Users/tamilselvan/nltk_data...\n",
      "[nltk_data]   Package wordnet is already up-to-date!\n"
     ]
    },
    {
     "data": {
      "text/html": [
       "<div>\n",
       "<style scoped>\n",
       "    .dataframe tbody tr th:only-of-type {\n",
       "        vertical-align: middle;\n",
       "    }\n",
       "\n",
       "    .dataframe tbody tr th {\n",
       "        vertical-align: top;\n",
       "    }\n",
       "\n",
       "    .dataframe thead th {\n",
       "        text-align: right;\n",
       "    }\n",
       "</style>\n",
       "<table border=\"1\" class=\"dataframe\">\n",
       "  <thead>\n",
       "    <tr style=\"text-align: right;\">\n",
       "      <th></th>\n",
       "      <th>original_review</th>\n",
       "      <th>augmented_review</th>\n",
       "    </tr>\n",
       "  </thead>\n",
       "  <tbody>\n",
       "    <tr>\n",
       "      <th>0</th>\n",
       "      <td>GoodREAD MORE</td>\n",
       "      <td>[GoodREAD sir thomas more]</td>\n",
       "    </tr>\n",
       "    <tr>\n",
       "      <th>1</th>\n",
       "      <td>Nice camera but battery drain fast specially o...</td>\n",
       "      <td>[Nice camera just shelling drain fast speciall...</td>\n",
       "    </tr>\n",
       "    <tr>\n",
       "      <th>2</th>\n",
       "      <td>Best smart phone under this price range compar...</td>\n",
       "      <td>[Best smart phone nether this price range comp...</td>\n",
       "    </tr>\n",
       "    <tr>\n",
       "      <th>3</th>\n",
       "      <td>Just amazing!READ MORE</td>\n",
       "      <td>[Merely flummox! READ MORE]</td>\n",
       "    </tr>\n",
       "    <tr>\n",
       "      <th>4</th>\n",
       "      <td>Nice UI and FastREAD MORE</td>\n",
       "      <td>[Nice UI and FastREAD MORE]</td>\n",
       "    </tr>\n",
       "  </tbody>\n",
       "</table>\n",
       "</div>"
      ],
      "text/plain": [
       "                                     original_review  \\\n",
       "0                                      GoodREAD MORE   \n",
       "1  Nice camera but battery drain fast specially o...   \n",
       "2  Best smart phone under this price range compar...   \n",
       "3                             Just amazing!READ MORE   \n",
       "4                          Nice UI and FastREAD MORE   \n",
       "\n",
       "                                    augmented_review  \n",
       "0                         [GoodREAD sir thomas more]  \n",
       "1  [Nice camera just shelling drain fast speciall...  \n",
       "2  [Best smart phone nether this price range comp...  \n",
       "3                        [Merely flummox! READ MORE]  \n",
       "4                        [Nice UI and FastREAD MORE]  "
      ]
     },
     "execution_count": 4,
     "metadata": {},
     "output_type": "execute_result"
    }
   ],
   "source": [
    "import pandas as pd\n",
    "import nlpaug.augmenter.word as naw\n",
    "import ssl\n",
    "ssl._create_default_https_context = ssl._create_unverified_context\n",
    "import nltk\n",
    "nltk.download('wordnet')\n",
    "\n",
    "\n",
    "\n",
    "# Load the CSV file into a pandas DataFrame\n",
    "csv_file_path = 'Data_collection/sample_data/output.csv'\n",
    "data = pd.read_csv(csv_file_path)\n",
    "\n",
    "# Assuming your CSV file has a column named 'review' that contains the reviews\n",
    "reviews = data['review']\n",
    "\n",
    "# Create a synonym augmenter\n",
    "synonym_augmenter = naw.SynonymAug(aug_p=0.3)  # Augmentation probability\n",
    "\n",
    "# Apply synonym replacement augmentation\n",
    "augmented_reviews = []\n",
    "for review in reviews:\n",
    "    augmented_review = synonym_augmenter.augment(review)\n",
    "    augmented_reviews.append(augmented_review)\n",
    "\n",
    "# Create a new DataFrame to store augmented reviews\n",
    "augmented_data = pd.DataFrame({'original_review': reviews, 'augmented_review': augmented_reviews})\n",
    "\n",
    "# Print the augmented data\n",
    "augmented_data.head()\n"
   ]
  },
  {
   "cell_type": "code",
   "execution_count": null,
   "metadata": {},
   "outputs": [],
   "source": []
  }
 ],
 "metadata": {
  "kernelspec": {
   "display_name": ".venv",
   "language": "python",
   "name": "python3"
  },
  "language_info": {
   "codemirror_mode": {
    "name": "ipython",
    "version": 3
   },
   "file_extension": ".py",
   "mimetype": "text/x-python",
   "name": "python",
   "nbconvert_exporter": "python",
   "pygments_lexer": "ipython3",
   "version": "3.11.0"
  },
  "orig_nbformat": 4
 },
 "nbformat": 4,
 "nbformat_minor": 2
}
