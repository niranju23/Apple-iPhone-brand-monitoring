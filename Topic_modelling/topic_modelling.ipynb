{
 "cells": [
  {
   "cell_type": "code",
   "execution_count": 1,
   "metadata": {},
   "outputs": [
    {
     "name": "stdout",
     "output_type": "stream",
     "text": [
      "Topic 1:\n",
      "awesome, phone, apply, happy, siphon, love, product, colour, flippant, got\n",
      "========================================\n",
      "Topic 2:\n",
      "nice, 14, camera, perform, quality, amaze, super, money\n",
      "========================================\n",
      "Topic 3:\n",
      "good, great, battery, overall, heat, display\n",
      "========================================\n",
      "Topic 4:\n",
      "excel, thank, deliver, superb, fast\n",
      "========================================\n",
      "Topic 5:\n",
      "best, android, better, use\n",
      "========================================\n"
     ]
    }
   ],
   "source": [
    "import pandas as pd\n",
    "from sklearn.feature_extraction.text import CountVectorizer\n",
    "from sklearn.decomposition import LatentDirichletAllocation\n",
    "import nltk\n",
    "from nltk.corpus import stopwords\n",
    "from nltk.stem import PorterStemmer\n",
    "import string\n",
    "\n",
    "# Load the CSV file into a pandas DataFrame\n",
    "csv_file_path = 'preprocessing/preprocessed_sample.csv'\n",
    "data = pd.read_csv(csv_file_path)\n",
    "\n",
    "# Drop rows with NaN values in the 'corrected_review' column\n",
    "data = data.dropna(subset=['corrected_review'])\n",
    "\n",
    "# Convert the processed reviews to a list of strings\n",
    "documents = list(data['corrected_review'])\n",
    "\n",
    "# Create a CountVectorizer to convert text into a bag-of-words representation\n",
    "vectorizer = CountVectorizer(max_features=1000, max_df=0.8, stop_words='english')\n",
    "X = vectorizer.fit_transform(documents)\n",
    "\n",
    "# Perform Latent Dirichlet Allocation (LDA)\n",
    "num_topics = 5  # You can adjust this value\n",
    "lda = LatentDirichletAllocation(n_components=num_topics, random_state=42)\n",
    "lda.fit(X)\n",
    "\n",
    "# Display the topics and their top words\n",
    "feature_names = vectorizer.get_feature_names_out()\n",
    "\n",
    "# Keep track of used words\n",
    "used_words = set()\n",
    "\n",
    "for topic_idx, topic in enumerate(lda.components_):\n",
    "    print(f\"Topic {topic_idx + 1}:\")\n",
    "    top_words_idx = topic.argsort()[:-10 - 1:-1]\n",
    "    top_words = [feature_names[i] for i in top_words_idx if feature_names[i] not in used_words]\n",
    "    \n",
    "    # Add top words to used words set\n",
    "    used_words.update(top_words)\n",
    "    \n",
    "    print(\", \".join(top_words))\n",
    "    print(\"=\" * 40)\n"
   ]
  },
  {
   "cell_type": "code",
   "execution_count": null,
   "metadata": {},
   "outputs": [],
   "source": []
  }
 ],
 "metadata": {
  "kernelspec": {
   "display_name": ".venv",
   "language": "python",
   "name": "python3"
  },
  "language_info": {
   "codemirror_mode": {
    "name": "ipython",
    "version": 3
   },
   "file_extension": ".py",
   "mimetype": "text/x-python",
   "name": "python",
   "nbconvert_exporter": "python",
   "pygments_lexer": "ipython3",
   "version": "3.11.0"
  },
  "orig_nbformat": 4
 },
 "nbformat": 4,
 "nbformat_minor": 2
}
