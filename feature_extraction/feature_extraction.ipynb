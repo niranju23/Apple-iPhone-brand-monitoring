{
 "cells": [
  {
   "cell_type": "code",
   "execution_count": 3,
   "metadata": {},
   "outputs": [
    {
     "name": "stdout",
     "output_type": "stream",
     "text": [
      "Most Frequent Positive Features:\n",
      "['12' '13' '14' 'alway' 'amaze' 'android' 'apply' 'awesome' 'backup'\n",
      " 'battery' 'best' 'better' 'build' 'buy' 'camera' 'charge' 'color'\n",
      " 'colour' 'come' 'compare' 'conduit' 'day' 'deal' 'deliver' 'design'\n",
      " 'devil' 'differ' 'display' 'dream' 'everyth' 'excel' 'expect' 'expert'\n",
      " 'fast' 'feature' 'feel' 'fine' 'flippant' 'genuine' 'good' 'got' 'great'\n",
      " 'hands' 'happy' 'heat' 'improv' 'io' 'issue' 'lag' 'life' 'light' 'like'\n",
      " 'look' 'lot' 'love' 'low' 'mobil' 'money' 'need' 'new' 'nice' 'ok'\n",
      " 'order' 'overall' 'perfect' 'perform' 'phone' 'photo' 'pictur' 'power'\n",
      " 'premium' 'price' 'pro' 'product' 'purchase' 'quality' 'ram' 'rang'\n",
      " 'really' 'say' 'service' 'siphon' 'smooth' 'sound' 'super' 'superb'\n",
      " 'switch' 'thank' 'thing' 'time' 'upgrade' 'use' 'value' 'video' 'want'\n",
      " 'word' 'work' 'worth' 'wow' 'yellow']\n",
      "========================================\n",
      "Most Frequent Negative Features:\n",
      "['10' '14' 'android' 'apply' 'average' 'bad' 'battery' 'build' 'camera'\n",
      " 'compare' 'complaint' 'crazy' 'custom' 'damage' 'date' 'day' 'dead'\n",
      " 'deliver' 'design' 'dirty' 'disappoint' 'display' 'doubt' 'excel'\n",
      " 'fanboy' 'fantasy' 'flippant' 'got' 'issue' 'like' 'line' 'mobil' 'new'\n",
      " 'night' 'obvious' 'om' 'open' 'order' 'package' 'panic' 'partner'\n",
      " 'perform' 'phone' 'photograph' 'place' 'point' 'poor' 'previous' 'price'\n",
      " 'pro' 'product' 'properly' 'pub' 'purchase' 'quality' 'question' 'rate'\n",
      " 'reach' 'really' 'rear' 'receive' 'refresh' 'reject' 'resolve' 'return'\n",
      " 'sad' 'say' 'screen' 'screens' 'seller' 'service' 'sharp' 'siphon'\n",
      " 'slight' 'slow' 'spend' 'struck' 'support' 'tap' 'team' 'term' 'terrible'\n",
      " 'think' 'time' 'took' 'touch' 'trust' 'unable' 'upgrade' 'use' 'user'\n",
      " 'usual' 'version' 'video' 'volume' 'wallpaper' 'way' 'went' 'work'\n",
      " 'worst']\n"
     ]
    }
   ],
   "source": [
    "import pandas as pd\n",
    "from sklearn.feature_extraction.text import CountVectorizer\n",
    "from textblob import TextBlob\n",
    "import nltk\n",
    "from nltk.corpus import stopwords\n",
    "from nltk.stem import PorterStemmer\n",
    "import string\n",
    "\n",
    "# Load the CSV file into a pandas DataFrame\n",
    "csv_file_path = 'preprocessing/preprocessed_sample.csv'\n",
    "data = pd.read_csv(csv_file_path)\n",
    "\n",
    "# Drop rows with NaN values in the 'corrected_review' column\n",
    "data = data.dropna(subset=['corrected_review'])\n",
    "\n",
    "# Convert the processed reviews to a list of strings\n",
    "documents = list(data['corrected_review'])\n",
    "\n",
    "# Calculate sentiment scores for each review\n",
    "sentiment_scores = [TextBlob(review).sentiment.polarity for review in documents]\n",
    "\n",
    "# Separate reviews into positive and negative based on sentiment scores\n",
    "positive_reviews = [review for review, score in zip(documents, sentiment_scores) if score > 0]\n",
    "negative_reviews = [review for review, score in zip(documents, sentiment_scores) if score < 0]\n",
    "\n",
    "# Create a CountVectorizer to extract frequent features from positive reviews\n",
    "positive_vectorizer = CountVectorizer(max_features=100, max_df=0.8, stop_words='english')\n",
    "positive_X = positive_vectorizer.fit_transform(positive_reviews)\n",
    "\n",
    "# Create a CountVectorizer to extract frequent features from negative reviews\n",
    "negative_vectorizer = CountVectorizer(max_features=100, max_df=0.8, stop_words='english')\n",
    "negative_X = negative_vectorizer.fit_transform(negative_reviews)\n",
    "\n",
    "# Get the feature names for positive and negative reviews\n",
    "positive_feature_names = positive_vectorizer.get_feature_names_out()\n",
    "negative_feature_names = negative_vectorizer.get_feature_names_out()\n",
    "\n",
    "# Display the most frequent positive and negative features\n",
    "print(\"Most Frequent Positive Features:\")\n",
    "print(positive_feature_names)\n",
    "print(\"=\" * 40)\n",
    "print(\"Most Frequent Negative Features:\")\n",
    "print(negative_feature_names)\n"
   ]
  },
  {
   "cell_type": "code",
   "execution_count": null,
   "metadata": {},
   "outputs": [],
   "source": []
  }
 ],
 "metadata": {
  "kernelspec": {
   "display_name": ".venv",
   "language": "python",
   "name": "python3"
  },
  "language_info": {
   "codemirror_mode": {
    "name": "ipython",
    "version": 3
   },
   "file_extension": ".py",
   "mimetype": "text/x-python",
   "name": "python",
   "nbconvert_exporter": "python",
   "pygments_lexer": "ipython3",
   "version": "3.11.0"
  },
  "orig_nbformat": 4
 },
 "nbformat": 4,
 "nbformat_minor": 2
}
