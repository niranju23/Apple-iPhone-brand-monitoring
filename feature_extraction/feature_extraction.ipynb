{
 "cells": [
  {
   "cell_type": "code",
   "execution_count": 98,
   "metadata": {},
   "outputs": [],
   "source": [
    "import pandas as pd\n",
    "from sklearn.feature_extraction.text import CountVectorizer\n",
    "from textblob import TextBlob\n",
    "import nltk\n",
    "from nltk.corpus import stopwords\n",
    "from nltk.stem import PorterStemmer\n",
    "import string\n",
    "import plotly.express as px"
   ]
  },
  {
   "cell_type": "code",
   "execution_count": 106,
   "metadata": {},
   "outputs": [
    {
     "data": {
      "text/html": [
       "<div>\n",
       "<style scoped>\n",
       "    .dataframe tbody tr th:only-of-type {\n",
       "        vertical-align: middle;\n",
       "    }\n",
       "\n",
       "    .dataframe tbody tr th {\n",
       "        vertical-align: top;\n",
       "    }\n",
       "\n",
       "    .dataframe thead th {\n",
       "        text-align: right;\n",
       "    }\n",
       "</style>\n",
       "<table border=\"1\" class=\"dataframe\">\n",
       "  <thead>\n",
       "    <tr style=\"text-align: right;\">\n",
       "      <th></th>\n",
       "      <th>Unnamed: 0</th>\n",
       "      <th>Year</th>\n",
       "      <th>Apple iPhone model</th>\n",
       "      <th>review</th>\n",
       "      <th>data source</th>\n",
       "      <th>Category</th>\n",
       "      <th>processed_review</th>\n",
       "    </tr>\n",
       "  </thead>\n",
       "  <tbody>\n",
       "    <tr>\n",
       "      <th>0</th>\n",
       "      <td>0</td>\n",
       "      <td>2022</td>\n",
       "      <td>iPhone 14 series</td>\n",
       "      <td>this is the iPhone 14 plus we haven't\\nactuall...</td>\n",
       "      <td>Youtube</td>\n",
       "      <td>Camera</td>\n",
       "      <td>iphone 14 plus havent actually plus name iphon...</td>\n",
       "    </tr>\n",
       "    <tr>\n",
       "      <th>1</th>\n",
       "      <td>1</td>\n",
       "      <td>2022</td>\n",
       "      <td>iPhone 14 series</td>\n",
       "      <td>So, Apple haven't used the Plus branding since...</td>\n",
       "      <td>Youtube</td>\n",
       "      <td>General</td>\n",
       "      <td>apple havent used plus branding since 2017 new...</td>\n",
       "    </tr>\n",
       "    <tr>\n",
       "      <th>2</th>\n",
       "      <td>2</td>\n",
       "      <td>2022</td>\n",
       "      <td>iPhone 14 series</td>\n",
       "      <td>Well...\\n...let's find out\\nDesign\\nSo, in ter...</td>\n",
       "      <td>Youtube</td>\n",
       "      <td>Camera</td>\n",
       "      <td>well lets find design terms design iphone 14 p...</td>\n",
       "    </tr>\n",
       "    <tr>\n",
       "      <th>3</th>\n",
       "      <td>3</td>\n",
       "      <td>2022</td>\n",
       "      <td>iPhone 14 series</td>\n",
       "      <td>Speaking of battery performance earlier\\nthe i...</td>\n",
       "      <td>Youtube</td>\n",
       "      <td>Battery</td>\n",
       "      <td>speaking battery performance earlier iphone 14...</td>\n",
       "    </tr>\n",
       "    <tr>\n",
       "      <th>4</th>\n",
       "      <td>4</td>\n",
       "      <td>2022</td>\n",
       "      <td>iPhone 14 series</td>\n",
       "      <td>Well, absolutely not at all\\nbecause it is exa...</td>\n",
       "      <td>Youtube</td>\n",
       "      <td>Camera</td>\n",
       "      <td>well absolutely exactly type performance expec...</td>\n",
       "    </tr>\n",
       "    <tr>\n",
       "      <th>...</th>\n",
       "      <td>...</td>\n",
       "      <td>...</td>\n",
       "      <td>...</td>\n",
       "      <td>...</td>\n",
       "      <td>...</td>\n",
       "      <td>...</td>\n",
       "      <td>...</td>\n",
       "    </tr>\n",
       "    <tr>\n",
       "      <th>82082</th>\n",
       "      <td>82080</td>\n",
       "      <td>2018</td>\n",
       "      <td>iPhone XR and XS</td>\n",
       "      <td>No comments yet.</td>\n",
       "      <td>Blogs</td>\n",
       "      <td>General</td>\n",
       "      <td>comments yet</td>\n",
       "    </tr>\n",
       "    <tr>\n",
       "      <th>82083</th>\n",
       "      <td>82081</td>\n",
       "      <td>2018</td>\n",
       "      <td>iPhone XR and XS</td>\n",
       "      <td>Be the first to share your thoughts!</td>\n",
       "      <td>Blogs</td>\n",
       "      <td>General</td>\n",
       "      <td>first share thoughts</td>\n",
       "    </tr>\n",
       "    <tr>\n",
       "      <th>82084</th>\n",
       "      <td>82082</td>\n",
       "      <td>2018</td>\n",
       "      <td>iPhone XR and XS</td>\n",
       "      <td>Ultimate guides to kickstart your finances \\nP...</td>\n",
       "      <td>Blogs</td>\n",
       "      <td>General</td>\n",
       "      <td>ultimate guides kickstart finances personal fi...</td>\n",
       "    </tr>\n",
       "    <tr>\n",
       "      <th>82085</th>\n",
       "      <td>82083</td>\n",
       "      <td>2018</td>\n",
       "      <td>iPhone XR and XS</td>\n",
       "      <td>Stay updated with the latest finance tips!</td>\n",
       "      <td>Blogs</td>\n",
       "      <td>General</td>\n",
       "      <td>stay updated latest finance tips</td>\n",
       "    </tr>\n",
       "    <tr>\n",
       "      <th>82086</th>\n",
       "      <td>82084</td>\n",
       "      <td>2018</td>\n",
       "      <td>iPhone XR and XS</td>\n",
       "      <td>Advertisement\\nCompany\\nProduct Reviews\\nBusin...</td>\n",
       "      <td>Blogs</td>\n",
       "      <td>General</td>\n",
       "      <td>advertisement company product reviews business...</td>\n",
       "    </tr>\n",
       "  </tbody>\n",
       "</table>\n",
       "<p>82087 rows × 7 columns</p>\n",
       "</div>"
      ],
      "text/plain": [
       "      Unnamed: 0  Year Apple iPhone model  \\\n",
       "0              0  2022   iPhone 14 series   \n",
       "1              1  2022   iPhone 14 series   \n",
       "2              2  2022   iPhone 14 series   \n",
       "3              3  2022   iPhone 14 series   \n",
       "4              4  2022   iPhone 14 series   \n",
       "...          ...   ...                ...   \n",
       "82082      82080  2018   iPhone XR and XS   \n",
       "82083      82081  2018   iPhone XR and XS   \n",
       "82084      82082  2018   iPhone XR and XS   \n",
       "82085      82083  2018   iPhone XR and XS   \n",
       "82086      82084  2018   iPhone XR and XS   \n",
       "\n",
       "                                                  review data source Category  \\\n",
       "0      this is the iPhone 14 plus we haven't\\nactuall...     Youtube   Camera   \n",
       "1      So, Apple haven't used the Plus branding since...     Youtube  General   \n",
       "2      Well...\\n...let's find out\\nDesign\\nSo, in ter...     Youtube   Camera   \n",
       "3      Speaking of battery performance earlier\\nthe i...     Youtube  Battery   \n",
       "4      Well, absolutely not at all\\nbecause it is exa...     Youtube   Camera   \n",
       "...                                                  ...         ...      ...   \n",
       "82082                                   No comments yet.       Blogs  General   \n",
       "82083               Be the first to share your thoughts!       Blogs  General   \n",
       "82084  Ultimate guides to kickstart your finances \\nP...       Blogs  General   \n",
       "82085         Stay updated with the latest finance tips!       Blogs  General   \n",
       "82086  Advertisement\\nCompany\\nProduct Reviews\\nBusin...       Blogs  General   \n",
       "\n",
       "                                        processed_review  \n",
       "0      iphone 14 plus havent actually plus name iphon...  \n",
       "1      apple havent used plus branding since 2017 new...  \n",
       "2      well lets find design terms design iphone 14 p...  \n",
       "3      speaking battery performance earlier iphone 14...  \n",
       "4      well absolutely exactly type performance expec...  \n",
       "...                                                  ...  \n",
       "82082                                       comments yet  \n",
       "82083                               first share thoughts  \n",
       "82084  ultimate guides kickstart finances personal fi...  \n",
       "82085                   stay updated latest finance tips  \n",
       "82086  advertisement company product reviews business...  \n",
       "\n",
       "[82087 rows x 7 columns]"
      ]
     },
     "execution_count": 106,
     "metadata": {},
     "output_type": "execute_result"
    }
   ],
   "source": [
    "\n",
    "\n",
    "# Load the CSV file into a pandas DataFrame\n",
    "csv_file_path = 'Data_collection/main_data/processed_data.csv'\n",
    "data = pd.read_csv(csv_file_path)\n",
    "data"
   ]
  },
  {
   "cell_type": "code",
   "execution_count": 107,
   "metadata": {},
   "outputs": [],
   "source": [
    "data = data[data.Year == '2022']\n",
    "# Drop rows with NaN values in the 'corrected_review' column\n",
    "data = data.dropna(subset=['processed_review'])\n",
    "# Convert the processed reviews to a list of strings\n",
    "documents = list(data['processed_review'])"
   ]
  },
  {
   "cell_type": "code",
   "execution_count": 109,
   "metadata": {},
   "outputs": [
    {
     "name": "stdout",
     "output_type": "stream",
     "text": [
      "Most Frequent Positive Features:\n",
      "['12' '13' '14' '15' '16' 'action' 'actually' 'android' 'app' 'apple'\n",
      " 'available' 'battery' 'best' 'better' 'big' 'buy' 'camera' 'cameras'\n",
      " 'case' 'chip' 'day' 'design' 'device' 'display' 'don' 'dont' 'dynamic'\n",
      " 'experience' 'feature' 'features' 'going' 'good' 'got' 'great' 'im'\n",
      " 'image' 'ios' 'iphone' 'iphones' 'island' 'know' 'larger' 'latest' 'life'\n",
      " 'light' 'like' 'lol' 'look' 'lot' 'love' 'main' 'make' 'makes' 'max'\n",
      " 'mode' 'model' 'models' 'money' 'need' 'new' 'nice' 'old' 'people'\n",
      " 'performance' 'phone' 'phones' 'photos' 'plus' 'price' 'pro' 'product'\n",
      " 'quality' 'really' 'review' 'right' 'satellite' 'say' 'screen' 'sensor'\n",
      " 'series' 'software' 'sure' 'thanks' 'thing' 'think' 'time' 'upgrade'\n",
      " 'use' 'used' 'users' 'using' 've' 'video' 'videos' 'want' 'watch' 'way'\n",
      " 'worth' 'year' 'years']\n",
      "========================================\n",
      "Most Frequent Negative Features:\n",
      "['12' '13' '14' '15' '16' 'android' 'apple' 'bad' 'base' 'battery' 'big'\n",
      " 'bit' 'black' 'boring' 'buy' 'buying' 'camera' 'change' 'crazy' 'day'\n",
      " 'days' 'difference' 'different' 'display' 'don' 'dont' 'dynamic'\n",
      " 'expected' 'expensive' 'extra' 'feature' 'features' 'feel' 'game'\n",
      " 'getting' 'going' 'got' 'hard' 'hate' 'hours' 'im' 'ios' 'iphone'\n",
      " 'iphones' 'island' 'know' 'life' 'like' 'little' 'long' 'look' 'looks'\n",
      " 'make' 'marques' 'max' 'mean' 'mini' 'mode' 'model' 'models' 'money'\n",
      " 'need' 'new' 'people' 'phone' 'phones' 'photos' 'playing' 'plus'\n",
      " 'previous' 'price' 'pro' 'really' 'release' 'samsung' 'screen' 'sim'\n",
      " 'slightly' 'small' 'software' 'thats' 'thing' 'think' 'time' 'update'\n",
      " 'updates' 'upgrade' 'use' 'used' 'using' 've' 'video' 'want' 'way'\n",
      " 'whats' 'wide' 'wordle' 'work' 'year' 'years']\n"
     ]
    }
   ],
   "source": [
    "\n",
    "# Calculate sentiment scores for each review\n",
    "sentiment_scores = [TextBlob(review).sentiment.polarity for review in documents]\n",
    "\n",
    "# Separate reviews into positive and negative based on sentiment scores\n",
    "positive_reviews = [review for review, score in zip(documents, sentiment_scores) if score > 0]\n",
    "negative_reviews = [review for review, score in zip(documents, sentiment_scores) if score < 0]\n",
    "\n",
    "# Create a CountVectorizer to extract frequent features from positive reviews\n",
    "positive_vectorizer = CountVectorizer(max_features=100, max_df=0.8, stop_words='english')\n",
    "positive_X = positive_vectorizer.fit_transform(positive_reviews)\n",
    "\n",
    "# Create a CountVectorizer to extract frequent features from negative reviews\n",
    "negative_vectorizer = CountVectorizer(max_features=100, max_df=0.8, stop_words='english')\n",
    "negative_X = negative_vectorizer.fit_transform(negative_reviews)\n",
    "\n",
    "# Get the feature names for positive and negative reviews\n",
    "positive_feature_names = positive_vectorizer.get_feature_names_out()\n",
    "negative_feature_names = negative_vectorizer.get_feature_names_out()\n",
    "\n",
    "# Display the most frequent positive and negative features\n",
    "print(\"Most Frequent Positive Features:\")\n",
    "print(positive_feature_names)\n",
    "print(\"=\" * 40)\n",
    "print(\"Most Frequent Negative Features:\")\n",
    "print(negative_feature_names)\n"
   ]
  },
  {
   "cell_type": "code",
   "execution_count": 111,
   "metadata": {},
   "outputs": [],
   "source": [
    "elements_to_remove = ['iphone', 'apple', 'phone', 'new', 'like', 'just', 'really', 'time',\n",
    "                      'got', 'use', 'know', 'don', 've', 'want', 'make', 'think', 'way', 'need', 'good',\n",
    "                      'better', 'thing', 'year','14','pro','max','mini','13','12','11','10','9','8','7','6','5','4','3',\n",
    "                      'plus','best','screen','great','people','phones','years','light','feature']"
   ]
  },
  {
   "cell_type": "code",
   "execution_count": 112,
   "metadata": {},
   "outputs": [],
   "source": [
    "# Sum the counts of each feature in positive reviews\n",
    "positive_word_counts = positive_X.sum(axis=0)\n",
    "\n",
    "# Sum the counts of each feature in negative reviews\n",
    "negative_word_counts = negative_X.sum(axis=0)\n",
    "\n",
    "# Convert the word counts to a list\n",
    "positive_word_counts = positive_word_counts.tolist()[0]\n",
    "negative_word_counts = negative_word_counts.tolist()[0]\n",
    "\n",
    "# Create a dictionary to map words to their counts\n",
    "positive_word_count_dict = dict(zip(positive_feature_names, positive_word_counts))\n",
    "negative_word_count_dict = dict(zip(negative_feature_names, negative_word_counts))\n"
   ]
  },
  {
   "cell_type": "code",
   "execution_count": 113,
   "metadata": {},
   "outputs": [],
   "source": [
    "positive_word_count_dict = {key: value for key, value in positive_word_count_dict.items() if key not in elements_to_remove}\n",
    "negative_word_count_dict = {key: value for key, value in negative_word_count_dict.items() if key not in elements_to_remove}"
   ]
  },
  {
   "cell_type": "code",
   "execution_count": 114,
   "metadata": {},
   "outputs": [],
   "source": [
    "positive_percentage = len(positive_reviews)/(len(positive_reviews)+len(negative_reviews)) * 100\n",
    "negative_percentage = len(negative_reviews)/(len(positive_reviews)+len(negative_reviews)) * 100\n"
   ]
  },
  {
   "cell_type": "code",
   "execution_count": 115,
   "metadata": {},
   "outputs": [
    {
     "data": {
      "application/vnd.plotly.v1+json": {
       "config": {
        "plotlyServerURL": "https://plot.ly"
       },
       "data": [
        {
         "domain": {
          "x": [
           0,
           1
          ],
          "y": [
           0,
           1
          ]
         },
         "hovertemplate": "Sentiment=%{label}<br>Percentage=%{value}<extra></extra>",
         "labels": [
          "Positive",
          "Negative"
         ],
         "legendgroup": "",
         "name": "",
         "showlegend": true,
         "type": "pie",
         "values": [
          77.28627886015393,
          22.71372113984608
         ]
        }
       ],
       "layout": {
        "legend": {
         "tracegroupgap": 0
        },
        "template": {
         "data": {
          "bar": [
           {
            "error_x": {
             "color": "#2a3f5f"
            },
            "error_y": {
             "color": "#2a3f5f"
            },
            "marker": {
             "line": {
              "color": "#E5ECF6",
              "width": 0.5
             },
             "pattern": {
              "fillmode": "overlay",
              "size": 10,
              "solidity": 0.2
             }
            },
            "type": "bar"
           }
          ],
          "barpolar": [
           {
            "marker": {
             "line": {
              "color": "#E5ECF6",
              "width": 0.5
             },
             "pattern": {
              "fillmode": "overlay",
              "size": 10,
              "solidity": 0.2
             }
            },
            "type": "barpolar"
           }
          ],
          "carpet": [
           {
            "aaxis": {
             "endlinecolor": "#2a3f5f",
             "gridcolor": "white",
             "linecolor": "white",
             "minorgridcolor": "white",
             "startlinecolor": "#2a3f5f"
            },
            "baxis": {
             "endlinecolor": "#2a3f5f",
             "gridcolor": "white",
             "linecolor": "white",
             "minorgridcolor": "white",
             "startlinecolor": "#2a3f5f"
            },
            "type": "carpet"
           }
          ],
          "choropleth": [
           {
            "colorbar": {
             "outlinewidth": 0,
             "ticks": ""
            },
            "type": "choropleth"
           }
          ],
          "contour": [
           {
            "colorbar": {
             "outlinewidth": 0,
             "ticks": ""
            },
            "colorscale": [
             [
              0,
              "#0d0887"
             ],
             [
              0.1111111111111111,
              "#46039f"
             ],
             [
              0.2222222222222222,
              "#7201a8"
             ],
             [
              0.3333333333333333,
              "#9c179e"
             ],
             [
              0.4444444444444444,
              "#bd3786"
             ],
             [
              0.5555555555555556,
              "#d8576b"
             ],
             [
              0.6666666666666666,
              "#ed7953"
             ],
             [
              0.7777777777777778,
              "#fb9f3a"
             ],
             [
              0.8888888888888888,
              "#fdca26"
             ],
             [
              1,
              "#f0f921"
             ]
            ],
            "type": "contour"
           }
          ],
          "contourcarpet": [
           {
            "colorbar": {
             "outlinewidth": 0,
             "ticks": ""
            },
            "type": "contourcarpet"
           }
          ],
          "heatmap": [
           {
            "colorbar": {
             "outlinewidth": 0,
             "ticks": ""
            },
            "colorscale": [
             [
              0,
              "#0d0887"
             ],
             [
              0.1111111111111111,
              "#46039f"
             ],
             [
              0.2222222222222222,
              "#7201a8"
             ],
             [
              0.3333333333333333,
              "#9c179e"
             ],
             [
              0.4444444444444444,
              "#bd3786"
             ],
             [
              0.5555555555555556,
              "#d8576b"
             ],
             [
              0.6666666666666666,
              "#ed7953"
             ],
             [
              0.7777777777777778,
              "#fb9f3a"
             ],
             [
              0.8888888888888888,
              "#fdca26"
             ],
             [
              1,
              "#f0f921"
             ]
            ],
            "type": "heatmap"
           }
          ],
          "heatmapgl": [
           {
            "colorbar": {
             "outlinewidth": 0,
             "ticks": ""
            },
            "colorscale": [
             [
              0,
              "#0d0887"
             ],
             [
              0.1111111111111111,
              "#46039f"
             ],
             [
              0.2222222222222222,
              "#7201a8"
             ],
             [
              0.3333333333333333,
              "#9c179e"
             ],
             [
              0.4444444444444444,
              "#bd3786"
             ],
             [
              0.5555555555555556,
              "#d8576b"
             ],
             [
              0.6666666666666666,
              "#ed7953"
             ],
             [
              0.7777777777777778,
              "#fb9f3a"
             ],
             [
              0.8888888888888888,
              "#fdca26"
             ],
             [
              1,
              "#f0f921"
             ]
            ],
            "type": "heatmapgl"
           }
          ],
          "histogram": [
           {
            "marker": {
             "pattern": {
              "fillmode": "overlay",
              "size": 10,
              "solidity": 0.2
             }
            },
            "type": "histogram"
           }
          ],
          "histogram2d": [
           {
            "colorbar": {
             "outlinewidth": 0,
             "ticks": ""
            },
            "colorscale": [
             [
              0,
              "#0d0887"
             ],
             [
              0.1111111111111111,
              "#46039f"
             ],
             [
              0.2222222222222222,
              "#7201a8"
             ],
             [
              0.3333333333333333,
              "#9c179e"
             ],
             [
              0.4444444444444444,
              "#bd3786"
             ],
             [
              0.5555555555555556,
              "#d8576b"
             ],
             [
              0.6666666666666666,
              "#ed7953"
             ],
             [
              0.7777777777777778,
              "#fb9f3a"
             ],
             [
              0.8888888888888888,
              "#fdca26"
             ],
             [
              1,
              "#f0f921"
             ]
            ],
            "type": "histogram2d"
           }
          ],
          "histogram2dcontour": [
           {
            "colorbar": {
             "outlinewidth": 0,
             "ticks": ""
            },
            "colorscale": [
             [
              0,
              "#0d0887"
             ],
             [
              0.1111111111111111,
              "#46039f"
             ],
             [
              0.2222222222222222,
              "#7201a8"
             ],
             [
              0.3333333333333333,
              "#9c179e"
             ],
             [
              0.4444444444444444,
              "#bd3786"
             ],
             [
              0.5555555555555556,
              "#d8576b"
             ],
             [
              0.6666666666666666,
              "#ed7953"
             ],
             [
              0.7777777777777778,
              "#fb9f3a"
             ],
             [
              0.8888888888888888,
              "#fdca26"
             ],
             [
              1,
              "#f0f921"
             ]
            ],
            "type": "histogram2dcontour"
           }
          ],
          "mesh3d": [
           {
            "colorbar": {
             "outlinewidth": 0,
             "ticks": ""
            },
            "type": "mesh3d"
           }
          ],
          "parcoords": [
           {
            "line": {
             "colorbar": {
              "outlinewidth": 0,
              "ticks": ""
             }
            },
            "type": "parcoords"
           }
          ],
          "pie": [
           {
            "automargin": true,
            "type": "pie"
           }
          ],
          "scatter": [
           {
            "fillpattern": {
             "fillmode": "overlay",
             "size": 10,
             "solidity": 0.2
            },
            "type": "scatter"
           }
          ],
          "scatter3d": [
           {
            "line": {
             "colorbar": {
              "outlinewidth": 0,
              "ticks": ""
             }
            },
            "marker": {
             "colorbar": {
              "outlinewidth": 0,
              "ticks": ""
             }
            },
            "type": "scatter3d"
           }
          ],
          "scattercarpet": [
           {
            "marker": {
             "colorbar": {
              "outlinewidth": 0,
              "ticks": ""
             }
            },
            "type": "scattercarpet"
           }
          ],
          "scattergeo": [
           {
            "marker": {
             "colorbar": {
              "outlinewidth": 0,
              "ticks": ""
             }
            },
            "type": "scattergeo"
           }
          ],
          "scattergl": [
           {
            "marker": {
             "colorbar": {
              "outlinewidth": 0,
              "ticks": ""
             }
            },
            "type": "scattergl"
           }
          ],
          "scattermapbox": [
           {
            "marker": {
             "colorbar": {
              "outlinewidth": 0,
              "ticks": ""
             }
            },
            "type": "scattermapbox"
           }
          ],
          "scatterpolar": [
           {
            "marker": {
             "colorbar": {
              "outlinewidth": 0,
              "ticks": ""
             }
            },
            "type": "scatterpolar"
           }
          ],
          "scatterpolargl": [
           {
            "marker": {
             "colorbar": {
              "outlinewidth": 0,
              "ticks": ""
             }
            },
            "type": "scatterpolargl"
           }
          ],
          "scatterternary": [
           {
            "marker": {
             "colorbar": {
              "outlinewidth": 0,
              "ticks": ""
             }
            },
            "type": "scatterternary"
           }
          ],
          "surface": [
           {
            "colorbar": {
             "outlinewidth": 0,
             "ticks": ""
            },
            "colorscale": [
             [
              0,
              "#0d0887"
             ],
             [
              0.1111111111111111,
              "#46039f"
             ],
             [
              0.2222222222222222,
              "#7201a8"
             ],
             [
              0.3333333333333333,
              "#9c179e"
             ],
             [
              0.4444444444444444,
              "#bd3786"
             ],
             [
              0.5555555555555556,
              "#d8576b"
             ],
             [
              0.6666666666666666,
              "#ed7953"
             ],
             [
              0.7777777777777778,
              "#fb9f3a"
             ],
             [
              0.8888888888888888,
              "#fdca26"
             ],
             [
              1,
              "#f0f921"
             ]
            ],
            "type": "surface"
           }
          ],
          "table": [
           {
            "cells": {
             "fill": {
              "color": "#EBF0F8"
             },
             "line": {
              "color": "white"
             }
            },
            "header": {
             "fill": {
              "color": "#C8D4E3"
             },
             "line": {
              "color": "white"
             }
            },
            "type": "table"
           }
          ]
         },
         "layout": {
          "annotationdefaults": {
           "arrowcolor": "#2a3f5f",
           "arrowhead": 0,
           "arrowwidth": 1
          },
          "autotypenumbers": "strict",
          "coloraxis": {
           "colorbar": {
            "outlinewidth": 0,
            "ticks": ""
           }
          },
          "colorscale": {
           "diverging": [
            [
             0,
             "#8e0152"
            ],
            [
             0.1,
             "#c51b7d"
            ],
            [
             0.2,
             "#de77ae"
            ],
            [
             0.3,
             "#f1b6da"
            ],
            [
             0.4,
             "#fde0ef"
            ],
            [
             0.5,
             "#f7f7f7"
            ],
            [
             0.6,
             "#e6f5d0"
            ],
            [
             0.7,
             "#b8e186"
            ],
            [
             0.8,
             "#7fbc41"
            ],
            [
             0.9,
             "#4d9221"
            ],
            [
             1,
             "#276419"
            ]
           ],
           "sequential": [
            [
             0,
             "#0d0887"
            ],
            [
             0.1111111111111111,
             "#46039f"
            ],
            [
             0.2222222222222222,
             "#7201a8"
            ],
            [
             0.3333333333333333,
             "#9c179e"
            ],
            [
             0.4444444444444444,
             "#bd3786"
            ],
            [
             0.5555555555555556,
             "#d8576b"
            ],
            [
             0.6666666666666666,
             "#ed7953"
            ],
            [
             0.7777777777777778,
             "#fb9f3a"
            ],
            [
             0.8888888888888888,
             "#fdca26"
            ],
            [
             1,
             "#f0f921"
            ]
           ],
           "sequentialminus": [
            [
             0,
             "#0d0887"
            ],
            [
             0.1111111111111111,
             "#46039f"
            ],
            [
             0.2222222222222222,
             "#7201a8"
            ],
            [
             0.3333333333333333,
             "#9c179e"
            ],
            [
             0.4444444444444444,
             "#bd3786"
            ],
            [
             0.5555555555555556,
             "#d8576b"
            ],
            [
             0.6666666666666666,
             "#ed7953"
            ],
            [
             0.7777777777777778,
             "#fb9f3a"
            ],
            [
             0.8888888888888888,
             "#fdca26"
            ],
            [
             1,
             "#f0f921"
            ]
           ]
          },
          "colorway": [
           "#636efa",
           "#EF553B",
           "#00cc96",
           "#ab63fa",
           "#FFA15A",
           "#19d3f3",
           "#FF6692",
           "#B6E880",
           "#FF97FF",
           "#FECB52"
          ],
          "font": {
           "color": "#2a3f5f"
          },
          "geo": {
           "bgcolor": "white",
           "lakecolor": "white",
           "landcolor": "#E5ECF6",
           "showlakes": true,
           "showland": true,
           "subunitcolor": "white"
          },
          "hoverlabel": {
           "align": "left"
          },
          "hovermode": "closest",
          "mapbox": {
           "style": "light"
          },
          "paper_bgcolor": "white",
          "plot_bgcolor": "#E5ECF6",
          "polar": {
           "angularaxis": {
            "gridcolor": "white",
            "linecolor": "white",
            "ticks": ""
           },
           "bgcolor": "#E5ECF6",
           "radialaxis": {
            "gridcolor": "white",
            "linecolor": "white",
            "ticks": ""
           }
          },
          "scene": {
           "xaxis": {
            "backgroundcolor": "#E5ECF6",
            "gridcolor": "white",
            "gridwidth": 2,
            "linecolor": "white",
            "showbackground": true,
            "ticks": "",
            "zerolinecolor": "white"
           },
           "yaxis": {
            "backgroundcolor": "#E5ECF6",
            "gridcolor": "white",
            "gridwidth": 2,
            "linecolor": "white",
            "showbackground": true,
            "ticks": "",
            "zerolinecolor": "white"
           },
           "zaxis": {
            "backgroundcolor": "#E5ECF6",
            "gridcolor": "white",
            "gridwidth": 2,
            "linecolor": "white",
            "showbackground": true,
            "ticks": "",
            "zerolinecolor": "white"
           }
          },
          "shapedefaults": {
           "line": {
            "color": "#2a3f5f"
           }
          },
          "ternary": {
           "aaxis": {
            "gridcolor": "white",
            "linecolor": "white",
            "ticks": ""
           },
           "baxis": {
            "gridcolor": "white",
            "linecolor": "white",
            "ticks": ""
           },
           "bgcolor": "#E5ECF6",
           "caxis": {
            "gridcolor": "white",
            "linecolor": "white",
            "ticks": ""
           }
          },
          "title": {
           "x": 0.05
          },
          "xaxis": {
           "automargin": true,
           "gridcolor": "white",
           "linecolor": "white",
           "ticks": "",
           "title": {
            "standoff": 15
           },
           "zerolinecolor": "white",
           "zerolinewidth": 2
          },
          "yaxis": {
           "automargin": true,
           "gridcolor": "white",
           "linecolor": "white",
           "ticks": "",
           "title": {
            "standoff": 15
           },
           "zerolinecolor": "white",
           "zerolinewidth": 2
          }
         }
        },
        "title": {
         "text": "Sentiment Distribution"
        }
       }
      }
     },
     "metadata": {},
     "output_type": "display_data"
    }
   ],
   "source": [
    "# Create a DataFrame for the pie chart\n",
    "data = pd.DataFrame({'Sentiment': ['Positive', 'Negative'], 'Percentage': [positive_percentage, negative_percentage]})\n",
    "\n",
    "# Create the pie plot\n",
    "fig = px.pie(data, names='Sentiment', values='Percentage', title='Sentiment Distribution')\n",
    "\n",
    "# Show the plot\n",
    "fig.show()"
   ]
  },
  {
   "cell_type": "code",
   "execution_count": 116,
   "metadata": {},
   "outputs": [
    {
     "name": "stdout",
     "output_type": "stream",
     "text": [
      "Top 10 Positive Features and Their Percentages:\n",
      "             Count  Percentage\n",
      "camera        1396   14.268193\n",
      "battery        988   10.098119\n",
      "display        685    7.001226\n",
      "video          607    6.204007\n",
      "features       522    5.335241\n",
      "life           495    5.059280\n",
      "ios            429    4.384710\n",
      "upgrade        427    4.364268\n",
      "models         425    4.343827\n",
      "performance    389    3.975879\n",
      "mode           369    3.771464\n",
      "iphones        352    3.597711\n",
      "dynamic        348    3.556827\n",
      "watch          347    3.546607\n",
      "dont           344    3.515944\n",
      "buy            344    3.515944\n",
      "love           336    3.434178\n",
      "design         331    3.383074\n",
      "photos         327    3.342191\n",
      "island         323    3.301308\n"
     ]
    }
   ],
   "source": [
    "# Create a DataFrame from the positive_word_count_dict\n",
    "df_positive_word_counts = pd.DataFrame.from_dict(positive_word_count_dict, orient='index', columns=['Count'])\n",
    "\n",
    "# Sort the DataFrame by word count in descending order\n",
    "df_positive_word_counts = df_positive_word_counts.sort_values(by='Count', ascending=False).head(20)\n",
    "\n",
    "# Calculate the percentage of each word count with respect to the total word count\n",
    "total_positive_word_count = df_positive_word_counts['Count'].sum()\n",
    "df_positive_word_counts['Percentage'] = (df_positive_word_counts['Count'] / total_positive_word_count) * 100\n",
    "\n",
    "# Take the top 10 positive features\n",
    "top_10_positive_features = df_positive_word_counts\n",
    "\n",
    "# Display the DataFrame with the top 10 positive features and their percentages\n",
    "print(\"Top 10 Positive Features and Their Percentages:\")\n",
    "print(top_10_positive_features)"
   ]
  },
  {
   "cell_type": "code",
   "execution_count": 117,
   "metadata": {},
   "outputs": [
    {
     "name": "stdout",
     "output_type": "stream",
     "text": [
      "Top 10 Negative Features and Their Percentages:\n",
      "         Count  Percentage\n",
      "game       396   14.732143\n",
      "battery    285   10.602679\n",
      "camera     179    6.659226\n",
      "playing    147    5.468750\n",
      "video      123    4.575893\n",
      "display    121    4.501488\n",
      "ios        120    4.464286\n",
      "bad        118    4.389881\n",
      "little     118    4.389881\n",
      "models     117    4.352679\n",
      "life       110    4.092262\n",
      "buy        109    4.055060\n",
      "base       104    3.869048\n",
      "model      104    3.869048\n",
      "upgrade     98    3.645833\n",
      "long        97    3.608631\n",
      "15          87    3.236607\n",
      "island      86    3.199405\n",
      "im          86    3.199405\n",
      "small       83    3.087798\n"
     ]
    }
   ],
   "source": [
    "import pandas as pd\n",
    "\n",
    "# Create a DataFrame from the negative_word_count_dict\n",
    "df_negative_word_counts = pd.DataFrame.from_dict(negative_word_count_dict, orient='index', columns=['Count'])\n",
    "\n",
    "# Sort the DataFrame by word count in descending order\n",
    "df_negative_word_counts = df_negative_word_counts.sort_values(by='Count', ascending=False).head(20)\n",
    "\n",
    "# Calculate the percentage of each word count with respect to the total word count\n",
    "total_negative_word_count = df_negative_word_counts['Count'].sum()\n",
    "df_negative_word_counts['Percentage'] = (df_negative_word_counts['Count'] / total_negative_word_count) * 100\n",
    "\n",
    "# Take the top 10 negative features\n",
    "top_10_negative_features = df_negative_word_counts\n",
    "\n",
    "# Display the DataFrame with the top 10 negative features and their percentages\n",
    "print(\"Top 10 Negative Features and Their Percentages:\")\n",
    "print(top_10_negative_features)\n"
   ]
  },
  {
   "cell_type": "code",
   "execution_count": 119,
   "metadata": {},
   "outputs": [
    {
     "name": "stdout",
     "output_type": "stream",
     "text": [
      "Top 10 Positive Features and Their Percentages:\n",
      "             Count  Percentage\n",
      "camera        1396   14.268193\n",
      "battery        988   10.098119\n",
      "display        685    7.001226\n",
      "video          607    6.204007\n",
      "features       522    5.335241\n",
      "life           495    5.059280\n",
      "ios            429    4.384710\n",
      "upgrade        427    4.364268\n",
      "models         425    4.343827\n",
      "performance    389    3.975879\n",
      "mode           369    3.771464\n",
      "iphones        352    3.597711\n",
      "dynamic        348    3.556827\n",
      "watch          347    3.546607\n",
      "dont           344    3.515944\n",
      "buy            344    3.515944\n",
      "love           336    3.434178\n",
      "design         331    3.383074\n",
      "photos         327    3.342191\n",
      "island         323    3.301308\n"
     ]
    },
    {
     "data": {
      "image/png": "[encoded data removed]",
      "text/plain": [
       "<Figure size 1000x600 with 1 Axes>"
      ]
     },
     "metadata": {},
     "output_type": "display_data"
    }
   ],
   "source": [
    "import pandas as pd\n",
    "import matplotlib.pyplot as plt\n",
    "\n",
    "# Create a DataFrame from the positive_word_count_dict\n",
    "df_positive_word_counts = pd.DataFrame.from_dict(positive_word_count_dict, orient='index', columns=['Count'])\n",
    "\n",
    "# Sort the DataFrame by word count in descending order\n",
    "df_positive_word_counts = df_positive_word_counts.sort_values(by='Count', ascending=False).head(20)\n",
    "\n",
    "# Calculate the percentage of each word count with respect to the total word count\n",
    "total_positive_word_count = df_positive_word_counts['Count'].sum()\n",
    "df_positive_word_counts['Percentage'] = (df_positive_word_counts['Count'] / total_positive_word_count) * 100\n",
    "\n",
    "# Take the top 10 positive features\n",
    "top_10_positive_features = df_positive_word_counts\n",
    "\n",
    "# Display the DataFrame with the top 10 positive features and their percentages\n",
    "print(\"Top 10 Positive Features and Their Percentages:\")\n",
    "print(top_10_positive_features)\n",
    "\n",
    "# Create a bubble chart\n",
    "plt.figure(figsize=(10, 6))\n",
    "plt.scatter(top_10_positive_features.index, top_10_positive_features['Percentage'], s=top_10_positive_features['Count'], c='skyblue', alpha=0.5)\n",
    "plt.xlabel('Features')\n",
    "plt.ylabel('Percentage')\n",
    "plt.title('Bubble Chart of Top 10 Positive Features')\n",
    "plt.xticks(rotation=45)  # Rotate x-axis labels for readability\n",
    "plt.grid(True)\n",
    "plt.show()\n"
   ]
  },
  {
   "cell_type": "code",
   "execution_count": null,
   "metadata": {},
   "outputs": [],
   "source": []
  },
  {
   "cell_type": "code",
   "execution_count": null,
   "metadata": {},
   "outputs": [],
   "source": []
  }
 ],
 "metadata": {
  "kernelspec": {
   "display_name": ".venv",
   "language": "python",
   "name": "python3"
  },
  "language_info": {
   "codemirror_mode": {
    "name": "ipython",
    "version": 3
   },
   "file_extension": ".py",
   "mimetype": "text/x-python",
   "name": "python",
   "nbconvert_exporter": "python",
   "pygments_lexer": "ipython3",
   "version": "3.11.0"
  },
  "orig_nbformat": 4
 },
 "nbformat": 4,
 "nbformat_minor": 2
}
