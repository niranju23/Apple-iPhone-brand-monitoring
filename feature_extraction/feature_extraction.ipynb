{
 "cells": [
  {
   "cell_type": "code",
   "execution_count": 68,
   "metadata": {},
   "outputs": [],
   "source": [
    "import pandas as pd\n",
    "from sklearn.feature_extraction.text import CountVectorizer\n",
    "from textblob import TextBlob\n",
    "import nltk\n",
    "from nltk.corpus import stopwords\n",
    "from nltk.stem import PorterStemmer\n",
    "import string\n",
    "import plotly.express as px"
   ]
  },
  {
   "cell_type": "code",
   "execution_count": 78,
   "metadata": {},
   "outputs": [
    {
     "name": "stdout",
     "output_type": "stream",
     "text": [
      "Most Frequent Positive Features:\n",
      "['12' '13' '14' '15' '5g' 'a15' 'amazing' 'android' 'app' 'apple'\n",
      " 'available' 'awesome' 'battery' 'best' 'better' 'big' 'bionic' 'buy'\n",
      " 'camera' 'cameras' 'charging' 'cinematic' 'day' 'delivery' 'design'\n",
      " 'device' 'display' 'don' 'excellent' 'experience' 'fast' 'feature'\n",
      " 'features' 'flipkart' 'good' 'got' 'great' 'happy' 'high' 'image' 'ios'\n",
      " 'iphone' 'iphones' 'just' 'larger' 'latest' 'lens' 'life' 'light' 'like'\n",
      " 'll' 'look' 'love' 'loved' 'low' 'make' 'max' 'mini' 'mobile' 'mode'\n",
      " 'model' 'models' 'need' 'new' 'nice' 'night' 'notch' 'offers' 'overall'\n",
      " 'people' 'performance' 'phone' 'phones' 'photo' 'photos' 'price' 'pro'\n",
      " 'product' 'quality' 'really' 'review' 'screen' 'sensor' 'size'\n",
      " 'smartphone' 'super' 'superb' 'thanks' 'time' 'ultra' 'use' 'used'\n",
      " 'using' 've' 'video' 'want' 'wide' 'worth' 'year' 'years']\n",
      "========================================\n",
      "Most Frequent Negative Features:\n",
      "['12' '128gb' '12mp' '13' '14' '15' '2023' 'a15' 'android' 'aperture'\n",
      " 'app' 'apple' 'average' 'bad' 'base' 'battery' 'big' 'bit' 'blue' 'buy'\n",
      " 'camera' 'cameras' 'charging' 'cinematic' 'comes' 'compared' 'day'\n",
      " 'design' 'device' 'display' 'doesn' 'don' 'expected' 'experience'\n",
      " 'features' 'focus' 'good' 'hard' 'hours' 'image' 'ios' 'iphone' 'iphones'\n",
      " 'issue' 'just' 'lens' 'life' 'like' 'little' 'll' 'long' 'look' 'macro'\n",
      " 'max' 'mini' 'mode' 'model' 'models' 'need' 'new' 'night' 'performance'\n",
      " 'phone' 'phones' 'photo' 'photos' 'previous' 'pro' 'product' 'quality'\n",
      " 'raw' 'really' 'refresh' 'screen' 'sensor' 'series' 'shot' 'single'\n",
      " 'size' 'slightly' 'small' 'smaller' 'smartphone' 'storage' 'subject'\n",
      " 'telephoto' 'time' 'ultra' 'use' 'used' 'using' 've' 'video' 'want' 'way'\n",
      " 'wide' 'worst' 'year' 'years' 'zoom']\n"
     ]
    }
   ],
   "source": [
    "\n",
    "\n",
    "\n",
    "# Load the CSV file into a pandas DataFrame\n",
    "csv_file_path = 'Data_collection/main_data/apple_raw_reivew.csv'\n",
    "data = pd.read_csv(csv_file_path)\n",
    "\n",
    "data = data[data.Year == 2021]\n",
    "# Drop rows with NaN values in the 'corrected_review' column\n",
    "data = data.dropna(subset=['review'])\n",
    "\n",
    "# Convert the processed reviews to a list of strings\n",
    "documents = list(data['review'])\n",
    "\n",
    "# Calculate sentiment scores for each review\n",
    "sentiment_scores = [TextBlob(review).sentiment.polarity for review in documents]\n",
    "\n",
    "# Separate reviews into positive and negative based on sentiment scores\n",
    "positive_reviews = [review for review, score in zip(documents, sentiment_scores) if score > 0]\n",
    "negative_reviews = [review for review, score in zip(documents, sentiment_scores) if score < 0]\n",
    "\n",
    "# Create a CountVectorizer to extract frequent features from positive reviews\n",
    "positive_vectorizer = CountVectorizer(max_features=100, max_df=0.8, stop_words='english')\n",
    "positive_X = positive_vectorizer.fit_transform(positive_reviews)\n",
    "\n",
    "# Create a CountVectorizer to extract frequent features from negative reviews\n",
    "negative_vectorizer = CountVectorizer(max_features=100, max_df=0.8, stop_words='english')\n",
    "negative_X = negative_vectorizer.fit_transform(negative_reviews)\n",
    "\n",
    "# Get the feature names for positive and negative reviews\n",
    "positive_feature_names = positive_vectorizer.get_feature_names_out()\n",
    "negative_feature_names = negative_vectorizer.get_feature_names_out()\n",
    "\n",
    "# Display the most frequent positive and negative features\n",
    "print(\"Most Frequent Positive Features:\")\n",
    "print(positive_feature_names)\n",
    "print(\"=\" * 40)\n",
    "print(\"Most Frequent Negative Features:\")\n",
    "print(negative_feature_names)\n"
   ]
  },
  {
   "cell_type": "code",
   "execution_count": 79,
   "metadata": {},
   "outputs": [
    {
     "data": {
      "text/plain": [
       "'There are a few weak spots, however, including the lack of an always-on display, an unreliable notification system, and app bloat.'"
      ]
     },
     "execution_count": 79,
     "metadata": {},
     "output_type": "execute_result"
    }
   ],
   "source": [
    "negative_reviews[355]"
   ]
  },
  {
   "cell_type": "code",
   "execution_count": 80,
   "metadata": {},
   "outputs": [
    {
     "data": {
      "text/plain": [
       "'12'"
      ]
     },
     "execution_count": 80,
     "metadata": {},
     "output_type": "execute_result"
    }
   ],
   "source": [
    "positive_feature_names[0]"
   ]
  },
  {
   "cell_type": "code",
   "execution_count": 81,
   "metadata": {},
   "outputs": [],
   "source": [
    "elements_to_remove = ['iphone', 'apple', 'phone', 'new', 'like', 'just', 'really', 'time',\n",
    "                      'got', 'use', 'know', 'don', 've', 'want', 'make', 'think', 'way', 'need', 'good',\n",
    "                      'better', 'thing', 'year','14','pro','max','mini','13','12','11','10','9','8','7','6','5','4','3',\n",
    "                      'plus','best','screen','great','people','phones','years','light','feature']"
   ]
  },
  {
   "cell_type": "code",
   "execution_count": 82,
   "metadata": {},
   "outputs": [],
   "source": [
    "# Sum the counts of each feature in positive reviews\n",
    "positive_word_counts = positive_X.sum(axis=0)\n",
    "\n",
    "# Sum the counts of each feature in negative reviews\n",
    "negative_word_counts = negative_X.sum(axis=0)\n",
    "\n",
    "# Convert the word counts to a list\n",
    "positive_word_counts = positive_word_counts.tolist()[0]\n",
    "negative_word_counts = negative_word_counts.tolist()[0]\n",
    "\n",
    "# Create a dictionary to map words to their counts\n",
    "positive_word_count_dict = dict(zip(positive_feature_names, positive_word_counts))\n",
    "negative_word_count_dict = dict(zip(negative_feature_names, negative_word_counts))\n"
   ]
  },
  {
   "cell_type": "code",
   "execution_count": 83,
   "metadata": {},
   "outputs": [],
   "source": [
    "positive_word_count_dict = {key: value for key, value in positive_word_count_dict.items() if key not in elements_to_remove}\n",
    "negative_word_count_dict = {key: value for key, value in negative_word_count_dict.items() if key not in elements_to_remove}"
   ]
  },
  {
   "cell_type": "code",
   "execution_count": 84,
   "metadata": {},
   "outputs": [],
   "source": [
    "positive_percentage = len(positive_reviews)/(len(positive_reviews)+len(negative_reviews)) * 100\n",
    "negative_percentage = len(negative_reviews)/(len(positive_reviews)+len(negative_reviews)) * 100\n"
   ]
  },
  {
   "cell_type": "code",
   "execution_count": 85,
   "metadata": {},
   "outputs": [
    {
     "data": {
      "application/vnd.plotly.v1+json": {
       "config": {
        "plotlyServerURL": "https://plot.ly"
       },
       "data": [
        {
         "domain": {
          "x": [
           0,
           1
          ],
          "y": [
           0,
           1
          ]
         },
         "hovertemplate": "Sentiment=%{label}<br>Percentage=%{value}<extra></extra>",
         "labels": [
          "Positive",
          "Negative"
         ],
         "legendgroup": "",
         "name": "",
         "showlegend": true,
         "type": "pie",
         "values": [
          85.11416537353136,
          14.885834626468633
         ]
        }
       ],
       "layout": {
        "legend": {
         "tracegroupgap": 0
        },
        "template": {
         "data": {
          "bar": [
           {
            "error_x": {
             "color": "#2a3f5f"
            },
            "error_y": {
             "color": "#2a3f5f"
            },
            "marker": {
             "line": {
              "color": "#E5ECF6",
              "width": 0.5
             },
             "pattern": {
              "fillmode": "overlay",
              "size": 10,
              "solidity": 0.2
             }
            },
            "type": "bar"
           }
          ],
          "barpolar": [
           {
            "marker": {
             "line": {
              "color": "#E5ECF6",
              "width": 0.5
             },
             "pattern": {
              "fillmode": "overlay",
              "size": 10,
              "solidity": 0.2
             }
            },
            "type": "barpolar"
           }
          ],
          "carpet": [
           {
            "aaxis": {
             "endlinecolor": "#2a3f5f",
             "gridcolor": "white",
             "linecolor": "white",
             "minorgridcolor": "white",
             "startlinecolor": "#2a3f5f"
            },
            "baxis": {
             "endlinecolor": "#2a3f5f",
             "gridcolor": "white",
             "linecolor": "white",
             "minorgridcolor": "white",
             "startlinecolor": "#2a3f5f"
            },
            "type": "carpet"
           }
          ],
          "choropleth": [
           {
            "colorbar": {
             "outlinewidth": 0,
             "ticks": ""
            },
            "type": "choropleth"
           }
          ],
          "contour": [
           {
            "colorbar": {
             "outlinewidth": 0,
             "ticks": ""
            },
            "colorscale": [
             [
              0,
              "#0d0887"
             ],
             [
              0.1111111111111111,
              "#46039f"
             ],
             [
              0.2222222222222222,
              "#7201a8"
             ],
             [
              0.3333333333333333,
              "#9c179e"
             ],
             [
              0.4444444444444444,
              "#bd3786"
             ],
             [
              0.5555555555555556,
              "#d8576b"
             ],
             [
              0.6666666666666666,
              "#ed7953"
             ],
             [
              0.7777777777777778,
              "#fb9f3a"
             ],
             [
              0.8888888888888888,
              "#fdca26"
             ],
             [
              1,
              "#f0f921"
             ]
            ],
            "type": "contour"
           }
          ],
          "contourcarpet": [
           {
            "colorbar": {
             "outlinewidth": 0,
             "ticks": ""
            },
            "type": "contourcarpet"
           }
          ],
          "heatmap": [
           {
            "colorbar": {
             "outlinewidth": 0,
             "ticks": ""
            },
            "colorscale": [
             [
              0,
              "#0d0887"
             ],
             [
              0.1111111111111111,
              "#46039f"
             ],
             [
              0.2222222222222222,
              "#7201a8"
             ],
             [
              0.3333333333333333,
              "#9c179e"
             ],
             [
              0.4444444444444444,
              "#bd3786"
             ],
             [
              0.5555555555555556,
              "#d8576b"
             ],
             [
              0.6666666666666666,
              "#ed7953"
             ],
             [
              0.7777777777777778,
              "#fb9f3a"
             ],
             [
              0.8888888888888888,
              "#fdca26"
             ],
             [
              1,
              "#f0f921"
             ]
            ],
            "type": "heatmap"
           }
          ],
          "heatmapgl": [
           {
            "colorbar": {
             "outlinewidth": 0,
             "ticks": ""
            },
            "colorscale": [
             [
              0,
              "#0d0887"
             ],
             [
              0.1111111111111111,
              "#46039f"
             ],
             [
              0.2222222222222222,
              "#7201a8"
             ],
             [
              0.3333333333333333,
              "#9c179e"
             ],
             [
              0.4444444444444444,
              "#bd3786"
             ],
             [
              0.5555555555555556,
              "#d8576b"
             ],
             [
              0.6666666666666666,
              "#ed7953"
             ],
             [
              0.7777777777777778,
              "#fb9f3a"
             ],
             [
              0.8888888888888888,
              "#fdca26"
             ],
             [
              1,
              "#f0f921"
             ]
            ],
            "type": "heatmapgl"
           }
          ],
          "histogram": [
           {
            "marker": {
             "pattern": {
              "fillmode": "overlay",
              "size": 10,
              "solidity": 0.2
             }
            },
            "type": "histogram"
           }
          ],
          "histogram2d": [
           {
            "colorbar": {
             "outlinewidth": 0,
             "ticks": ""
            },
            "colorscale": [
             [
              0,
              "#0d0887"
             ],
             [
              0.1111111111111111,
              "#46039f"
             ],
             [
              0.2222222222222222,
              "#7201a8"
             ],
             [
              0.3333333333333333,
              "#9c179e"
             ],
             [
              0.4444444444444444,
              "#bd3786"
             ],
             [
              0.5555555555555556,
              "#d8576b"
             ],
             [
              0.6666666666666666,
              "#ed7953"
             ],
             [
              0.7777777777777778,
              "#fb9f3a"
             ],
             [
              0.8888888888888888,
              "#fdca26"
             ],
             [
              1,
              "#f0f921"
             ]
            ],
            "type": "histogram2d"
           }
          ],
          "histogram2dcontour": [
           {
            "colorbar": {
             "outlinewidth": 0,
             "ticks": ""
            },
            "colorscale": [
             [
              0,
              "#0d0887"
             ],
             [
              0.1111111111111111,
              "#46039f"
             ],
             [
              0.2222222222222222,
              "#7201a8"
             ],
             [
              0.3333333333333333,
              "#9c179e"
             ],
             [
              0.4444444444444444,
              "#bd3786"
             ],
             [
              0.5555555555555556,
              "#d8576b"
             ],
             [
              0.6666666666666666,
              "#ed7953"
             ],
             [
              0.7777777777777778,
              "#fb9f3a"
             ],
             [
              0.8888888888888888,
              "#fdca26"
             ],
             [
              1,
              "#f0f921"
             ]
            ],
            "type": "histogram2dcontour"
           }
          ],
          "mesh3d": [
           {
            "colorbar": {
             "outlinewidth": 0,
             "ticks": ""
            },
            "type": "mesh3d"
           }
          ],
          "parcoords": [
           {
            "line": {
             "colorbar": {
              "outlinewidth": 0,
              "ticks": ""
             }
            },
            "type": "parcoords"
           }
          ],
          "pie": [
           {
            "automargin": true,
            "type": "pie"
           }
          ],
          "scatter": [
           {
            "fillpattern": {
             "fillmode": "overlay",
             "size": 10,
             "solidity": 0.2
            },
            "type": "scatter"
           }
          ],
          "scatter3d": [
           {
            "line": {
             "colorbar": {
              "outlinewidth": 0,
              "ticks": ""
             }
            },
            "marker": {
             "colorbar": {
              "outlinewidth": 0,
              "ticks": ""
             }
            },
            "type": "scatter3d"
           }
          ],
          "scattercarpet": [
           {
            "marker": {
             "colorbar": {
              "outlinewidth": 0,
              "ticks": ""
             }
            },
            "type": "scattercarpet"
           }
          ],
          "scattergeo": [
           {
            "marker": {
             "colorbar": {
              "outlinewidth": 0,
              "ticks": ""
             }
            },
            "type": "scattergeo"
           }
          ],
          "scattergl": [
           {
            "marker": {
             "colorbar": {
              "outlinewidth": 0,
              "ticks": ""
             }
            },
            "type": "scattergl"
           }
          ],
          "scattermapbox": [
           {
            "marker": {
             "colorbar": {
              "outlinewidth": 0,
              "ticks": ""
             }
            },
            "type": "scattermapbox"
           }
          ],
          "scatterpolar": [
           {
            "marker": {
             "colorbar": {
              "outlinewidth": 0,
              "ticks": ""
             }
            },
            "type": "scatterpolar"
           }
          ],
          "scatterpolargl": [
           {
            "marker": {
             "colorbar": {
              "outlinewidth": 0,
              "ticks": ""
             }
            },
            "type": "scatterpolargl"
           }
          ],
          "scatterternary": [
           {
            "marker": {
             "colorbar": {
              "outlinewidth": 0,
              "ticks": ""
             }
            },
            "type": "scatterternary"
           }
          ],
          "surface": [
           {
            "colorbar": {
             "outlinewidth": 0,
             "ticks": ""
            },
            "colorscale": [
             [
              0,
              "#0d0887"
             ],
             [
              0.1111111111111111,
              "#46039f"
             ],
             [
              0.2222222222222222,
              "#7201a8"
             ],
             [
              0.3333333333333333,
              "#9c179e"
             ],
             [
              0.4444444444444444,
              "#bd3786"
             ],
             [
              0.5555555555555556,
              "#d8576b"
             ],
             [
              0.6666666666666666,
              "#ed7953"
             ],
             [
              0.7777777777777778,
              "#fb9f3a"
             ],
             [
              0.8888888888888888,
              "#fdca26"
             ],
             [
              1,
              "#f0f921"
             ]
            ],
            "type": "surface"
           }
          ],
          "table": [
           {
            "cells": {
             "fill": {
              "color": "#EBF0F8"
             },
             "line": {
              "color": "white"
             }
            },
            "header": {
             "fill": {
              "color": "#C8D4E3"
             },
             "line": {
              "color": "white"
             }
            },
            "type": "table"
           }
          ]
         },
         "layout": {
          "annotationdefaults": {
           "arrowcolor": "#2a3f5f",
           "arrowhead": 0,
           "arrowwidth": 1
          },
          "autotypenumbers": "strict",
          "coloraxis": {
           "colorbar": {
            "outlinewidth": 0,
            "ticks": ""
           }
          },
          "colorscale": {
           "diverging": [
            [
             0,
             "#8e0152"
            ],
            [
             0.1,
             "#c51b7d"
            ],
            [
             0.2,
             "#de77ae"
            ],
            [
             0.3,
             "#f1b6da"
            ],
            [
             0.4,
             "#fde0ef"
            ],
            [
             0.5,
             "#f7f7f7"
            ],
            [
             0.6,
             "#e6f5d0"
            ],
            [
             0.7,
             "#b8e186"
            ],
            [
             0.8,
             "#7fbc41"
            ],
            [
             0.9,
             "#4d9221"
            ],
            [
             1,
             "#276419"
            ]
           ],
           "sequential": [
            [
             0,
             "#0d0887"
            ],
            [
             0.1111111111111111,
             "#46039f"
            ],
            [
             0.2222222222222222,
             "#7201a8"
            ],
            [
             0.3333333333333333,
             "#9c179e"
            ],
            [
             0.4444444444444444,
             "#bd3786"
            ],
            [
             0.5555555555555556,
             "#d8576b"
            ],
            [
             0.6666666666666666,
             "#ed7953"
            ],
            [
             0.7777777777777778,
             "#fb9f3a"
            ],
            [
             0.8888888888888888,
             "#fdca26"
            ],
            [
             1,
             "#f0f921"
            ]
           ],
           "sequentialminus": [
            [
             0,
             "#0d0887"
            ],
            [
             0.1111111111111111,
             "#46039f"
            ],
            [
             0.2222222222222222,
             "#7201a8"
            ],
            [
             0.3333333333333333,
             "#9c179e"
            ],
            [
             0.4444444444444444,
             "#bd3786"
            ],
            [
             0.5555555555555556,
             "#d8576b"
            ],
            [
             0.6666666666666666,
             "#ed7953"
            ],
            [
             0.7777777777777778,
             "#fb9f3a"
            ],
            [
             0.8888888888888888,
             "#fdca26"
            ],
            [
             1,
             "#f0f921"
            ]
           ]
          },
          "colorway": [
           "#636efa",
           "#EF553B",
           "#00cc96",
           "#ab63fa",
           "#FFA15A",
           "#19d3f3",
           "#FF6692",
           "#B6E880",
           "#FF97FF",
           "#FECB52"
          ],
          "font": {
           "color": "#2a3f5f"
          },
          "geo": {
           "bgcolor": "white",
           "lakecolor": "white",
           "landcolor": "#E5ECF6",
           "showlakes": true,
           "showland": true,
           "subunitcolor": "white"
          },
          "hoverlabel": {
           "align": "left"
          },
          "hovermode": "closest",
          "mapbox": {
           "style": "light"
          },
          "paper_bgcolor": "white",
          "plot_bgcolor": "#E5ECF6",
          "polar": {
           "angularaxis": {
            "gridcolor": "white",
            "linecolor": "white",
            "ticks": ""
           },
           "bgcolor": "#E5ECF6",
           "radialaxis": {
            "gridcolor": "white",
            "linecolor": "white",
            "ticks": ""
           }
          },
          "scene": {
           "xaxis": {
            "backgroundcolor": "#E5ECF6",
            "gridcolor": "white",
            "gridwidth": 2,
            "linecolor": "white",
            "showbackground": true,
            "ticks": "",
            "zerolinecolor": "white"
           },
           "yaxis": {
            "backgroundcolor": "#E5ECF6",
            "gridcolor": "white",
            "gridwidth": 2,
            "linecolor": "white",
            "showbackground": true,
            "ticks": "",
            "zerolinecolor": "white"
           },
           "zaxis": {
            "backgroundcolor": "#E5ECF6",
            "gridcolor": "white",
            "gridwidth": 2,
            "linecolor": "white",
            "showbackground": true,
            "ticks": "",
            "zerolinecolor": "white"
           }
          },
          "shapedefaults": {
           "line": {
            "color": "#2a3f5f"
           }
          },
          "ternary": {
           "aaxis": {
            "gridcolor": "white",
            "linecolor": "white",
            "ticks": ""
           },
           "baxis": {
            "gridcolor": "white",
            "linecolor": "white",
            "ticks": ""
           },
           "bgcolor": "#E5ECF6",
           "caxis": {
            "gridcolor": "white",
            "linecolor": "white",
            "ticks": ""
           }
          },
          "title": {
           "x": 0.05
          },
          "xaxis": {
           "automargin": true,
           "gridcolor": "white",
           "linecolor": "white",
           "ticks": "",
           "title": {
            "standoff": 15
           },
           "zerolinecolor": "white",
           "zerolinewidth": 2
          },
          "yaxis": {
           "automargin": true,
           "gridcolor": "white",
           "linecolor": "white",
           "ticks": "",
           "title": {
            "standoff": 15
           },
           "zerolinecolor": "white",
           "zerolinewidth": 2
          }
         }
        },
        "title": {
         "text": "Sentiment Distribution"
        }
       }
      }
     },
     "metadata": {},
     "output_type": "display_data"
    }
   ],
   "source": [
    "# Create a DataFrame for the pie chart\n",
    "data = pd.DataFrame({'Sentiment': ['Positive', 'Negative'], 'Percentage': [positive_percentage, negative_percentage]})\n",
    "\n",
    "# Create the pie plot\n",
    "fig = px.pie(data, names='Sentiment', values='Percentage', title='Sentiment Distribution')\n",
    "\n",
    "# Show the plot\n",
    "fig.show()"
   ]
  },
  {
   "cell_type": "code",
   "execution_count": 55,
   "metadata": {},
   "outputs": [
    {
     "name": "stdout",
     "output_type": "stream",
     "text": [
      "Top 10 Positive Features and Their Percentages:\n",
      "             Count  Percentage\n",
      "camera        1480   14.399689\n",
      "battery       1030   10.021405\n",
      "display        727    7.073361\n",
      "video          645    6.275540\n",
      "features       553    5.380424\n",
      "life           513    4.991243\n",
      "models         457    4.446390\n",
      "ios            456    4.436661\n",
      "upgrade        446    4.339366\n",
      "performance    414    4.028021\n",
      "mode           385    3.745865\n",
      "dynamic        375    3.648570\n",
      "buy            363    3.531816\n",
      "watch          361    3.512356\n",
      "photos         359    3.492897\n",
      "island         347    3.376143\n",
      "16             345    3.356684\n",
      "iphones        342    3.327496\n",
      "design         341    3.317766\n",
      "love           339    3.298307\n"
     ]
    }
   ],
   "source": [
    "# Create a DataFrame from the positive_word_count_dict\n",
    "df_positive_word_counts = pd.DataFrame.from_dict(positive_word_count_dict, orient='index', columns=['Count'])\n",
    "\n",
    "# Sort the DataFrame by word count in descending order\n",
    "df_positive_word_counts = df_positive_word_counts.sort_values(by='Count', ascending=False).head(20)\n",
    "\n",
    "# Calculate the percentage of each word count with respect to the total word count\n",
    "total_positive_word_count = df_positive_word_counts['Count'].sum()\n",
    "df_positive_word_counts['Percentage'] = (df_positive_word_counts['Count'] / total_positive_word_count) * 100\n",
    "\n",
    "# Take the top 10 positive features\n",
    "top_10_positive_features = df_positive_word_counts\n",
    "\n",
    "# Display the DataFrame with the top 10 positive features and their percentages\n",
    "print(\"Top 10 Positive Features and Their Percentages:\")\n",
    "print(top_10_positive_features)"
   ]
  },
  {
   "cell_type": "code",
   "execution_count": 56,
   "metadata": {},
   "outputs": [
    {
     "name": "stdout",
     "output_type": "stream",
     "text": [
      "Top 10 Negative Features and Their Percentages:\n",
      "         Count  Percentage\n",
      "game       390   14.606742\n",
      "battery    291   10.898876\n",
      "camera     184    6.891386\n",
      "playing    149    5.580524\n",
      "video      137    5.131086\n",
      "display    123    4.606742\n",
      "models     122    4.569288\n",
      "ios        116    4.344569\n",
      "life       115    4.307116\n",
      "bad        108    4.044944\n",
      "upgrade    100    3.745318\n",
      "little      99    3.707865\n",
      "base        99    3.707865\n",
      "buy         99    3.707865\n",
      "15          94    3.520599\n",
      "model       94    3.520599\n",
      "long        92    3.445693\n",
      "island      91    3.408240\n",
      "day         84    3.146067\n",
      "using       83    3.108614\n"
     ]
    }
   ],
   "source": [
    "import pandas as pd\n",
    "\n",
    "# Create a DataFrame from the negative_word_count_dict\n",
    "df_negative_word_counts = pd.DataFrame.from_dict(negative_word_count_dict, orient='index', columns=['Count'])\n",
    "\n",
    "# Sort the DataFrame by word count in descending order\n",
    "df_negative_word_counts = df_negative_word_counts.sort_values(by='Count', ascending=False).head(20)\n",
    "\n",
    "# Calculate the percentage of each word count with respect to the total word count\n",
    "total_negative_word_count = df_negative_word_counts['Count'].sum()\n",
    "df_negative_word_counts['Percentage'] = (df_negative_word_counts['Count'] / total_negative_word_count) * 100\n",
    "\n",
    "# Take the top 10 negative features\n",
    "top_10_negative_features = df_negative_word_counts\n",
    "\n",
    "# Display the DataFrame with the top 10 negative features and their percentages\n",
    "print(\"Top 10 Negative Features and Their Percentages:\")\n",
    "print(top_10_negative_features)\n"
   ]
  },
  {
   "cell_type": "code",
   "execution_count": null,
   "metadata": {},
   "outputs": [],
   "source": []
  },
  {
   "cell_type": "code",
   "execution_count": null,
   "metadata": {},
   "outputs": [],
   "source": []
  }
 ],
 "metadata": {
  "kernelspec": {
   "display_name": ".venv",
   "language": "python",
   "name": "python3"
  },
  "language_info": {
   "codemirror_mode": {
    "name": "ipython",
    "version": 3
   },
   "file_extension": ".py",
   "mimetype": "text/x-python",
   "name": "python",
   "nbconvert_exporter": "python",
   "pygments_lexer": "ipython3",
   "version": "3.11.0"
  },
  "orig_nbformat": 4
 },
 "nbformat": 4,
 "nbformat_minor": 2
}
