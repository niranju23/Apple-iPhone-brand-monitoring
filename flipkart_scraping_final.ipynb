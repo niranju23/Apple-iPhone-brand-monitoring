{
  "cells": [
    {
      "cell_type": "markdown",
      "metadata": {
        "colab_type": "text",
        "id": "view-in-github"
      },
      "source": [
        "<a href=\"https://colab.research.google.com/github/niranju23/Apple-iPhone-brand-monitoring/blob/main/flipkart_scraping_final.ipynb\" target=\"_parent\"><img src=\"https://colab.research.google.com/assets/colab-badge.svg\" alt=\"Open In Colab\"/></a>"
      ]
    },
    {
      "cell_type": "code",
      "execution_count": 2,
      "metadata": {
        "id": "1qvIB8SGTAwg"
      },
      "outputs": [],
      "source": [
        "import requests\n",
        "from bs4 import BeautifulSoup\n",
        "import csv\n",
        "\n"
      ]
    },
    {
      "cell_type": "code",
      "execution_count": 3,
      "metadata": {
        "id": "VFAP2SACqNZw"
      },
      "outputs": [],
      "source": [
        "# Base URL of the Flipkart product reviews\n",
        "base_url = \"https://www.flipkart.com/apple-iphone-14-pro-max-gold-128-gb/product-reviews/itm898d084d8a65f\"\n",
        "\n",
        "# Counter for tracking page number\n",
        "page_number = 1\n",
        "\n",
        "headers = ['rating', 'review']\n",
        "review_data = []\n",
        "\n"
      ]
    },
    {
      "cell_type": "code",
      "execution_count": 4,
      "metadata": {
        "colab": {
          "base_uri": "https://localhost:8080/"
        },
        "id": "VlPeydUAqNuP",
        "outputId": "6c48ffc3-d7e4-4c44-b561-567de7be2e7b"
      },
      "outputs": [
        {
          "name": "stdout",
          "output_type": "stream",
          "text": [
            "Page 1\n",
            "Page 2\n",
            "Page 3\n",
            "Page 4\n",
            "Page 5\n",
            "Page 6\n",
            "Page 7\n",
            "Page 8\n",
            "Page 9\n",
            "Page 10\n",
            "Page 11\n",
            "Page 12\n",
            "Page 13\n",
            "Page 14\n"
          ]
        }
      ],
      "source": [
        "while True:\n",
        "    # Construct the URL for the current page\n",
        "    url = f\"{base_url}?page={page_number}\"\n",
        "\n",
        "    # Send an HTTP GET request to the URL\n",
        "    response = requests.get(url)\n",
        "    # Parse the HTML content using BeautifulSoup\n",
        "    soup = BeautifulSoup(response.content, \"html.parser\")\n",
        "\n",
        "    # Find the elements containing reviews and ratings\n",
        "    review_elements = soup.find_all(\"div\", class_=\"_27M-vq\")\n",
        "\n",
        "    # If no review elements found, stop the loop\n",
        "    if not review_elements:\n",
        "        break\n",
        "\n",
        "    # Extract and print reviews and ratings\n",
        "    print(f\"Page {page_number}\")\n",
        "    for review_element in review_elements:\n",
        "        review_text_element = review_element.find(\"div\", class_=\"t-ZTKy\")\n",
        "        rating_element = review_element.find(\"div\", class_=\"_3LWZlK _1BLPMq\")\n",
        "        one_rating_elemnt = review_element.find(\"div\", class_=\"_3LWZlK _1rdVr6 _1BLPMq\")\n",
        "        two_rating_elemnt = review_element.find(\"div\", class_=\"_3LWZlK _32lA32 _1BLPMq\")\n",
        "\n",
        "        if review_text_element and rating_element:\n",
        "            review_text = review_text_element.get_text().strip()\n",
        "            rating = rating_element.get_text()\n",
        "            review_data.append([rating, review_text])\n",
        "            #print(f\"Rating: {rating}\")\n",
        "            #print(f\"Review: {review_text}\")\n",
        "            #print(\"=\" * 50)\n",
        "        elif one_rating_elemnt:\n",
        "            review_text = review_text_element.get_text().strip()\n",
        "            rating = one_rating_elemnt.get_text()\n",
        "            review_data.append([rating, review_text])\n",
        "        elif two_rating_elemnt:\n",
        "            review_text = review_text_element.get_text().strip()\n",
        "            rating = two_rating_elemnt.get_text()\n",
        "            review_data.append([rating, review_text])\n",
        "\n",
        "        else:\n",
        "            print(\"Review or rating element not found.\")\n",
        "\n",
        "    # Increment the page number for the next iteration\n",
        "    page_number += 1"
      ]
    },
    {
      "cell_type": "code",
      "execution_count": 6,
      "metadata": {
        "id": "UlGjdZmfqN1g"
      },
      "outputs": [],
      "source": [
        "with open('output3.csv','w') as f:\n",
        "    writer = csv.writer(f)\n",
        "    writer.writerow(headers)\n",
        "    writer.writerows(review_data)"
      ]
    },
    {
      "cell_type": "code",
      "execution_count": null,
      "metadata": {
        "id": "u4JmiQSUVcV_"
      },
      "outputs": [],
      "source": []
    }
  ],
  "metadata": {
    "colab": {
      "authorship_tag": "ABX9TyMYJAU7RXQn/64Pq0sFtnZD",
      "include_colab_link": true,
      "provenance": []
    },
    "kernelspec": {
      "display_name": "Python 3",
      "name": "python3"
    },
    "language_info": {
      "codemirror_mode": {
        "name": "ipython",
        "version": 3
      },
      "file_extension": ".py",
      "mimetype": "text/x-python",
      "name": "python",
      "nbconvert_exporter": "python",
      "pygments_lexer": "ipython3",
      "version": "3.11.0"
    }
  },
  "nbformat": 4,
  "nbformat_minor": 0
}
