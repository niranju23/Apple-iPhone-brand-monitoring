{
 "cells": [
  {
   "cell_type": "code",
   "execution_count": 11,
   "metadata": {},
   "outputs": [
    {
     "name": "stdout",
     "output_type": "stream",
     "text": [
      "Similar Review 28: GoodREAD MORE\n",
      "========================================\n",
      "Similar Review 93: GoodREAD MORE\n",
      "========================================\n",
      "Similar Review 141: GoodREAD MORE\n",
      "========================================\n",
      "Similar Review 151: GoodREAD MORE\n",
      "========================================\n",
      "Similar Review 180: Very good ✌️😍😍✌️READ MORE\n",
      "========================================\n"
     ]
    }
   ],
   "source": [
    "import pandas as pd\n",
    "from sklearn.metrics.pairwise import cosine_similarity\n",
    "from sklearn.decomposition import TruncatedSVD\n",
    "from textblob import TextBlob\n",
    "\n",
    "# Load the CSV file into a pandas DataFrame\n",
    "csv_file_path = 'preprocessing/preprocessed_sample.csv'\n",
    "data = pd.read_csv(csv_file_path)\n",
    "\n",
    "# Drop rows with NaN values in the 'corrected_review' column\n",
    "data = data.dropna(subset=['corrected_review'])\n",
    "\n",
    "documents = list(data['corrected_review'])\n",
    "\n",
    "# Calculate sentiment scores for each review\n",
    "sentiment_scores = [TextBlob(review).sentiment.polarity for review in documents]\n",
    "\n",
    "data['sentiment_score'] = sentiment_scores\n",
    "\n",
    "# Create a user-item matrix with reviews as values\n",
    "user_item_matrix = data.pivot_table(index='user_id', columns='product_id', values='sentiment_score')\n",
    "\n",
    "# Fill NaN values with 0 (neutral sentiment)\n",
    "user_item_matrix = user_item_matrix.fillna(0)\n",
    "\n",
    "# Collaborative Filtering - User-Based\n",
    "user_similarity = cosine_similarity(user_item_matrix)\n",
    "user_similarity_df = pd.DataFrame(user_similarity, index=user_item_matrix.index, columns=user_item_matrix.index)\n",
    "\n",
    "# Matrix Factorization - Singular Value Decomposition (SVD)\n",
    "svd = TruncatedSVD(n_components=50)\n",
    "user_factors = svd.fit_transform(user_item_matrix)\n",
    "item_factors = svd.components_\n",
    "\n",
    "# Content-Based Filtering (Example: Recommend products with highest average sentiment)\n",
    "recommended_product = data['product_id'][0]  # Assuming the product ID is in the first row\n",
    "\n",
    "print(\"User-Based Collaborative Filtering Similarity Matrix:\")\n",
    "print(user_similarity_df.head())\n",
    "print(\"=\" * 40)\n",
    "print(\"Matrix Factorization - User Factors:\")\n",
    "print(user_factors)\n",
    "print(\"=\" * 40)\n",
    "print(\"Matrix Factorization - Item Factors:\")\n",
    "print(item_factors)\n",
    "print(\"=\" * 40)\n",
    "print(\"Recommended Product based on Average Sentiment:\")\n",
    "print(recommended_product)\n"
   ]
  },
  {
   "cell_type": "code",
   "execution_count": null,
   "metadata": {},
   "outputs": [],
   "source": []
  }
 ],
 "metadata": {
  "kernelspec": {
   "display_name": ".venv",
   "language": "python",
   "name": "python3"
  },
  "language_info": {
   "codemirror_mode": {
    "name": "ipython",
    "version": 3
   },
   "file_extension": ".py",
   "mimetype": "text/x-python",
   "name": "python",
   "nbconvert_exporter": "python",
   "pygments_lexer": "ipython3",
   "version": "3.11.0"
  },
  "orig_nbformat": 4
 },
 "nbformat": 4,
 "nbformat_minor": 2
}
